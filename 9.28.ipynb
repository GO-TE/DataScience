{
 "cells": [
  {
   "cell_type": "code",
   "execution_count": 1,
   "id": "f7c1ec10-b793-4938-84dc-f056971a62d5",
   "metadata": {},
   "outputs": [
    {
     "name": "stdout",
     "output_type": "stream",
     "text": [
      "2\n"
     ]
    }
   ],
   "source": [
    "\"\"\"\n",
    "functions vs method\n",
    "\"\"\"\n",
    "#function\n",
    "def my_function(x):\n",
    "    return x+1\n",
    "my_function(1)\n",
    "y=3\n",
    "my_function(y)\n",
    "#method :클래스 내에 정의된 함수\n",
    "\n",
    "\n",
    "x=1\n",
    "\n",
    "class my_class:\n",
    "    def my_method(self):\n",
    "        return x+1\n",
    "\n",
    "cls = my_class()\n",
    "print(cls.my_method())"
   ]
  },
  {
   "cell_type": "code",
   "execution_count": 2,
   "id": "b8b3498c-9f55-4912-92b3-cae028a53ccd",
   "metadata": {},
   "outputs": [
    {
     "name": "stdout",
     "output_type": "stream",
     "text": [
      "2020 is a leap year.\n"
     ]
    }
   ],
   "source": [
    "\"\"\"\n",
    "return keyword\n",
    "\"\"\"\n",
    "#leap year: 윤년 (2월 29일까지)\n",
    "\n",
    "def check_leap_year(year):\n",
    "    if year %4==0:\n",
    "        return str(year)+\" is a leap year.\"\n",
    "    else:\n",
    "        return str(year)+\" is a not leap year.\"\n",
    "\n",
    "result=check_leap_year(2020)\n",
    "print(result)"
   ]
  },
  {
   "cell_type": "code",
   "execution_count": 3,
   "id": "fd2a6f92-d503-4f72-ad91-f3afe97ee447",
   "metadata": {},
   "outputs": [
    {
     "name": "stdout",
     "output_type": "stream",
     "text": [
      "9 16 25\n"
     ]
    }
   ],
   "source": [
    "\"\"\"\n",
    "returning Multiple values\n",
    "\"\"\"\n",
    "\n",
    "def sequare_point(x,y,z):\n",
    "    x_sequared=x**2\n",
    "    y_sequared=y**2\n",
    "    z_sequared = z**2\n",
    "    return x_sequared,y_sequared,z_sequared\n",
    "    \n",
    "three_sequared, four_sequared, five_sequared= sequare_point(3,4,5)\n",
    "print(three_sequared,four_sequared,five_sequared)"
   ]
  },
  {
   "cell_type": "code",
   "execution_count": 4,
   "id": "5727431c-8876-40f9-a53a-3490096dcd66",
   "metadata": {},
   "outputs": [
    {
     "name": "stdout",
     "output_type": "stream",
     "text": [
      "hello\n"
     ]
    }
   ],
   "source": [
    "\"\"\"\n",
    "G;obal variables\n",
    "\"\"\"\n",
    "\n",
    "\n",
    "\n",
    "def prints_a():\n",
    "    b=\"hello\"\n",
    "    print(b)\n",
    "    \n",
    "prints_a()"
   ]
  },
  {
   "cell_type": "code",
   "execution_count": 5,
   "id": "d6f6b8f1-fbcd-437b-afc3-e3556fe3a2a7",
   "metadata": {},
   "outputs": [
    {
     "name": "stdout",
     "output_type": "stream",
     "text": [
      "height=1\n",
      "width=2\n",
      "depth=3\n",
      "6\n",
      "height=2\n",
      "width=1\n",
      "depth=3\n",
      "6\n",
      "height=1\n",
      "width=2\n",
      "depth=3\n",
      "6\n"
     ]
    }
   ],
   "source": [
    "\"\"\"\n",
    "\n",
    "\"\"\"\n",
    "def findvolume(height,width,depth=3):\n",
    "    print(\"height=\"+str(height))\n",
    "    print(\"width=\"+str(width))\n",
    "    print(\"depth=\"+str(depth))\n",
    "    return height*width*depth\n",
    "\n",
    "print(findvolume(1,2,3))\n",
    "print(findvolume(2,1,3))\n",
    "print(findvolume(width=2,height=1))"
   ]
  },
  {
   "cell_type": "code",
   "execution_count": null,
   "id": "f136ca5a-58fa-4121-a809-2dd406c0c9c7",
   "metadata": {},
   "outputs": [],
   "source": []
  }
 ],
 "metadata": {
  "kernelspec": {
   "display_name": "Python 3",
   "language": "python",
   "name": "python3"
  },
  "language_info": {
   "codemirror_mode": {
    "name": "ipython",
    "version": 3
   },
   "file_extension": ".py",
   "mimetype": "text/x-python",
   "name": "python",
   "nbconvert_exporter": "python",
   "pygments_lexer": "ipython3",
   "version": "3.8.8"
  }
 },
 "nbformat": 4,
 "nbformat_minor": 5
}
