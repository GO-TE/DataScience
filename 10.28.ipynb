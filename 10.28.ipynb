{
 "cells": [
  {
   "cell_type": "code",
   "execution_count": 1,
   "id": "8409d953-07de-4959-b193-6c7d6413f80d",
   "metadata": {},
   "outputs": [
    {
     "name": "stdout",
     "output_type": "stream",
     "text": [
      "<class 'datetime.datetime'>\n"
     ]
    }
   ],
   "source": [
    "\"\"\"\n",
    "Native Python dates and times\n",
    "\"\"\"\n",
    "\n",
    "from datetime import datetime\n",
    "\n",
    "t= datetime(year=2021,month=10,day=27)\n",
    "print(type(t))"
   ]
  },
  {
   "cell_type": "code",
   "execution_count": 2,
   "id": "0b854efb-68d4-4398-9939-43cba74c357b",
   "metadata": {},
   "outputs": [
    {
     "name": "stdout",
     "output_type": "stream",
     "text": [
      "2021-10-27 00:00:00\n"
     ]
    }
   ],
   "source": [
    "# Parse a date from a string\n",
    "\n",
    "from dateutil import parser\n",
    "\n",
    "date=parser.parse('27th of October, 2021')\n",
    "print(date)"
   ]
  },
  {
   "cell_type": "code",
   "execution_count": 3,
   "id": "f8136710-c7e8-46e5-8d69-2380a59fa659",
   "metadata": {},
   "outputs": [
    {
     "data": {
      "text/plain": [
       "'Wednesday'"
      ]
     },
     "execution_count": 3,
     "metadata": {},
     "output_type": "execute_result"
    }
   ],
   "source": [
    "# Print the day of the week\n",
    "\n",
    "date.strftime('%A')"
   ]
  },
  {
   "cell_type": "code",
   "execution_count": 4,
   "id": "20f14a49-f182-4b88-a5e2-6685f341f61a",
   "metadata": {},
   "outputs": [
    {
     "name": "stdout",
     "output_type": "stream",
     "text": [
      "2021-10-28\n"
     ]
    }
   ],
   "source": [
    "\"\"\"\n",
    "Types Arrays of Times: NumPy's datetime64\n",
    "\"\"\"\n",
    "import numpy as np\n",
    "\n",
    "# Create datetime64 using array()\n",
    "\n",
    "dates=np.array(['2021-10-27','2021-10-28'],dtype=np.datetime64)\n",
    "type(dates[0])\n",
    "\n",
    "date=np.datetime64('2021-10-28')\n",
    "print(date)\n",
    "\n",
    "# Use datetime64()"
   ]
  },
  {
   "cell_type": "code",
   "execution_count": 6,
   "id": "e3039a42-435d-4969-82f0-eec52c10ae4d",
   "metadata": {},
   "outputs": [
    {
     "data": {
      "text/plain": [
       "array(['2021-10-28', '2021-10-29', '2021-10-30', '2021-10-31',\n",
       "       '2021-11-01', '2021-11-02', '2021-11-03'], dtype='datetime64[D]')"
      ]
     },
     "execution_count": 6,
     "metadata": {},
     "output_type": "execute_result"
    }
   ],
   "source": [
    "# We can quickly do vectorized operations on datetime64\n",
    "date + np.arange(7)"
   ]
  },
  {
   "cell_type": "code",
   "execution_count": 7,
   "id": "fde8fdca-b38d-48f1-930d-a2ce3105ae0e",
   "metadata": {},
   "outputs": [
    {
     "name": "stdout",
     "output_type": "stream",
     "text": [
      "2021-10-28T11:38\n"
     ]
    }
   ],
   "source": [
    "# Minute-based datetime\n",
    "\n",
    "t=np.datetime64('2021-10-28 11:38')\n",
    "print(t)"
   ]
  },
  {
   "cell_type": "code",
   "execution_count": 8,
   "id": "f8a0f137-c2b2-47b1-b04f-55feaf9caa4e",
   "metadata": {},
   "outputs": [
    {
     "name": "stdout",
     "output_type": "stream",
     "text": [
      "2021-10-28T11:39:10.200000000\n"
     ]
    }
   ],
   "source": [
    "# Nanosecond-based datetime\n",
    "\n",
    "t=np.datetime64('2021-10-28 11:39:10.20','ns')\n",
    "print(t)"
   ]
  },
  {
   "cell_type": "code",
   "execution_count": 9,
   "id": "c0cd62cd-cd6d-4c07-9304-4ace13ccceae",
   "metadata": {},
   "outputs": [
    {
     "name": "stdout",
     "output_type": "stream",
     "text": [
      "2021-10-27 00:00:00\n"
     ]
    }
   ],
   "source": [
    "\"\"\"\n",
    "Dates and Times in Pandas\n",
    "\"\"\"\n",
    "\n",
    "import pandas as pd\n",
    "\n",
    "# Parse a string date in pandas\n",
    "\n",
    "date=pd.to_datetime('27th of October, 2021')\n",
    "print(date)"
   ]
  },
  {
   "cell_type": "code",
   "execution_count": 10,
   "id": "86592ae7-14c0-4e7a-844e-cd8f19057803",
   "metadata": {},
   "outputs": [
    {
     "data": {
      "text/plain": [
       "'Wednesday'"
      ]
     },
     "execution_count": 10,
     "metadata": {},
     "output_type": "execute_result"
    }
   ],
   "source": [
    "# Output the day of the week\n",
    "\n",
    "date.strftime('%A')"
   ]
  },
  {
   "cell_type": "code",
   "execution_count": 11,
   "id": "0eec14d9-df5b-4893-bb2d-dc3f8bfa9e53",
   "metadata": {},
   "outputs": [
    {
     "data": {
      "text/plain": [
       "DatetimeIndex([          '2021-10-27 00:00:00',\n",
       "               '2021-10-27 00:00:00.000000001',\n",
       "               '2021-10-27 00:00:00.000000002',\n",
       "               '2021-10-27 00:00:00.000000003',\n",
       "               '2021-10-27 00:00:00.000000004',\n",
       "               '2021-10-27 00:00:00.000000005',\n",
       "               '2021-10-27 00:00:00.000000006'],\n",
       "              dtype='datetime64[ns]', freq=None)"
      ]
     },
     "execution_count": 11,
     "metadata": {},
     "output_type": "execute_result"
    }
   ],
   "source": [
    "# NumPy-style vectorized operations\n",
    "\n",
    "date+pd.to_timedelta(np.arange(7))"
   ]
  },
  {
   "cell_type": "code",
   "execution_count": 12,
   "id": "35e00048-339e-47c7-93a5-433bab1fba5f",
   "metadata": {},
   "outputs": [
    {
     "name": "stdout",
     "output_type": "stream",
     "text": [
      "DatetimeIndex(['2021-10-27', '2021-10-28', '2021-10-29', '2021-10-30',\n",
      "               '2021-10-31', '2021-11-01', '2021-11-02'],\n",
      "              dtype='datetime64[ns]', freq=None)\n",
      "2021-10-27    0\n",
      "2021-10-28    1\n",
      "2021-10-29    2\n",
      "2021-10-30    3\n",
      "2021-10-31    4\n",
      "2021-11-01    5\n",
      "2021-11-02    6\n",
      "dtype: int64\n"
     ]
    }
   ],
   "source": [
    "\"\"\"\n",
    "Pandas Time Series: Indexing by Time\n",
    "\"\"\"\n",
    "\n",
    "ind=pd.DatetimeIndex(['2021-10-27','2021-10-28','2021-10-29','2021-10-30','2021-10-31','2021-11-01','2021-11-02'])\n",
    "\n",
    "print(ind)\n",
    "\n",
    "ser=pd.Series([0,1,2,3,4,5,6], index=ind)\n",
    "print(ser)\n",
    "\n",
    "# Indexing by timestamps"
   ]
  },
  {
   "cell_type": "code",
   "execution_count": 13,
   "id": "c26f0328-62d2-4db4-a583-d271bb1f5dfe",
   "metadata": {},
   "outputs": [
    {
     "data": {
      "text/plain": [
       "2021-10-27    0\n",
       "2021-10-28    1\n",
       "2021-10-29    2\n",
       "2021-10-30    3\n",
       "2021-10-31    4\n",
       "2021-11-01    5\n",
       "2021-11-02    6\n",
       "dtype: int64"
      ]
     },
     "execution_count": 13,
     "metadata": {},
     "output_type": "execute_result"
    }
   ],
   "source": [
    "ser['2021']"
   ]
  },
  {
   "cell_type": "code",
   "execution_count": 14,
   "id": "6b78d225-51b3-47a8-8692-51c91b22ad69",
   "metadata": {},
   "outputs": [
    {
     "name": "stdout",
     "output_type": "stream",
     "text": [
      "DatetimeIndex(['2015-07-03', '2015-07-04', '2015-07-06', '2015-07-07',\n",
      "               '2015-07-08'],\n",
      "              dtype='datetime64[ns]', freq=None)\n"
     ]
    }
   ],
   "source": [
    "\"\"\"\n",
    "Pandas Time Series Data Structures\n",
    "\"\"\"\n",
    "\n",
    "# Timestamp and DatetimeIndex\n",
    "\n",
    "dates=pd.to_datetime([datetime(2015,7,3),\n",
    "                     '4th of July, 2015',\n",
    "                     '2015-Jul-6',\n",
    "                     '07-07-2015',\n",
    "                     '20150708'])\n",
    "\n",
    "print(dates)"
   ]
  },
  {
   "cell_type": "code",
   "execution_count": 15,
   "id": "1ca58e26-4f5a-45a1-936d-9412dfcd9e5f",
   "metadata": {},
   "outputs": [
    {
     "data": {
      "text/plain": [
       "PeriodIndex(['2015-06-29/2015-07-05', '2015-06-29/2015-07-05',\n",
       "             '2015-07-06/2015-07-12', '2015-07-06/2015-07-12',\n",
       "             '2015-07-06/2015-07-12'],\n",
       "            dtype='period[W-SUN]', freq='W-SUN')"
      ]
     },
     "execution_count": 15,
     "metadata": {},
     "output_type": "execute_result"
    }
   ],
   "source": [
    "dates.to_period('W')"
   ]
  },
  {
   "cell_type": "code",
   "execution_count": 16,
   "id": "30137950-7adb-4071-9768-80e64f8627ca",
   "metadata": {},
   "outputs": [
    {
     "data": {
      "text/plain": [
       "TimedeltaIndex(['0 days', '1 days', '3 days', '4 days', '5 days'], dtype='timedelta64[ns]', freq=None)"
      ]
     },
     "execution_count": 16,
     "metadata": {},
     "output_type": "execute_result"
    }
   ],
   "source": [
    "# TimedeltaIndex\n",
    "\n",
    "dates - dates[0]"
   ]
  },
  {
   "cell_type": "code",
   "execution_count": 17,
   "id": "e5b785bd-15dd-4f3f-bf76-21646ccf5063",
   "metadata": {},
   "outputs": [
    {
     "data": {
      "text/plain": [
       "DatetimeIndex(['2021-10-27', '2021-10-28', '2021-10-29', '2021-10-30',\n",
       "               '2021-10-31'],\n",
       "              dtype='datetime64[ns]', freq='D')"
      ]
     },
     "execution_count": 17,
     "metadata": {},
     "output_type": "execute_result"
    }
   ],
   "source": [
    "\"\"\"\n",
    "Regular Sequences\n",
    "\"\"\"\n",
    "\n",
    "# pd.date_range(). default freq: day\n",
    "\n",
    "pd.date_range('2021-10-27','2021-10-31')"
   ]
  },
  {
   "cell_type": "code",
   "execution_count": 18,
   "id": "b8093316-41d4-4b50-a48a-52a19dd3ce6e",
   "metadata": {},
   "outputs": [
    {
     "data": {
      "text/plain": [
       "DatetimeIndex(['2021-10-27', '2021-10-28', '2021-10-29', '2021-10-30',\n",
       "               '2021-10-31'],\n",
       "              dtype='datetime64[ns]', freq='D')"
      ]
     },
     "execution_count": 18,
     "metadata": {},
     "output_type": "execute_result"
    }
   ],
   "source": [
    "# Use startpoint and num. of periods\n",
    "pd.date_range('2021-10-27',periods=5)"
   ]
  },
  {
   "cell_type": "code",
   "execution_count": 19,
   "id": "539db32d-42b2-4595-afa6-07422660eda7",
   "metadata": {},
   "outputs": [
    {
     "data": {
      "text/plain": [
       "DatetimeIndex(['2021-10-27 00:00:00', '2021-10-27 01:00:00',\n",
       "               '2021-10-27 02:00:00', '2021-10-27 03:00:00',\n",
       "               '2021-10-27 04:00:00', '2021-10-27 05:00:00',\n",
       "               '2021-10-27 06:00:00', '2021-10-27 07:00:00',\n",
       "               '2021-10-27 08:00:00', '2021-10-27 09:00:00',\n",
       "               '2021-10-27 10:00:00', '2021-10-27 11:00:00'],\n",
       "              dtype='datetime64[ns]', freq='H')"
      ]
     },
     "execution_count": 19,
     "metadata": {},
     "output_type": "execute_result"
    }
   ],
   "source": [
    "# Change the frequency\n",
    "pd.date_range('2021-10-27',periods=12, freq='H')"
   ]
  },
  {
   "cell_type": "code",
   "execution_count": null,
   "id": "6dde169c-2a45-409b-815e-476bfde9ffd6",
   "metadata": {},
   "outputs": [],
   "source": []
  }
 ],
 "metadata": {
  "kernelspec": {
   "display_name": "Python 3",
   "language": "python",
   "name": "python3"
  },
  "language_info": {
   "codemirror_mode": {
    "name": "ipython",
    "version": 3
   },
   "file_extension": ".py",
   "mimetype": "text/x-python",
   "name": "python",
   "nbconvert_exporter": "python",
   "pygments_lexer": "ipython3",
   "version": "3.8.8"
  }
 },
 "nbformat": 4,
 "nbformat_minor": 5
}
