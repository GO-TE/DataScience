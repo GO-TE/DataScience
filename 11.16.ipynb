{
 "cells": [
  {
   "cell_type": "code",
   "execution_count": 1,
   "id": "3be4f013-5356-4c35-b8f8-2da2abc1714e",
   "metadata": {},
   "outputs": [
    {
     "name": "stderr",
     "output_type": "stream",
     "text": [
      "<ipython-input-1-c74af9ec6c61>:3: FutureWarning: The pandas.datetime class is deprecated and will be removed from pandas in a future version. Import from datetime module instead.\n",
      "  from pandas import datetime\n"
     ]
    },
    {
     "data": {
      "text/html": [
       "<div>\n",
       "<style scoped>\n",
       "    .dataframe tbody tr th:only-of-type {\n",
       "        vertical-align: middle;\n",
       "    }\n",
       "\n",
       "    .dataframe tbody tr th {\n",
       "        vertical-align: top;\n",
       "    }\n",
       "\n",
       "    .dataframe thead th {\n",
       "        text-align: right;\n",
       "    }\n",
       "</style>\n",
       "<table border=\"1\" class=\"dataframe\">\n",
       "  <thead>\n",
       "    <tr style=\"text-align: right;\">\n",
       "      <th></th>\n",
       "      <th>CO(GT)</th>\n",
       "      <th>PT08.S1(CO)</th>\n",
       "      <th>PT08.S2(NMHC)</th>\n",
       "      <th>NOx(GT)</th>\n",
       "      <th>PT08.S3(NOx)</th>\n",
       "      <th>NO2(GT)</th>\n",
       "      <th>PT08.S4(NO2)</th>\n",
       "      <th>PT08.S5(O3)</th>\n",
       "      <th>RH</th>\n",
       "      <th>AH</th>\n",
       "      <th>C6H6(GT)</th>\n",
       "    </tr>\n",
       "    <tr>\n",
       "      <th>Datetime</th>\n",
       "      <th></th>\n",
       "      <th></th>\n",
       "      <th></th>\n",
       "      <th></th>\n",
       "      <th></th>\n",
       "      <th></th>\n",
       "      <th></th>\n",
       "      <th></th>\n",
       "      <th></th>\n",
       "      <th></th>\n",
       "      <th></th>\n",
       "    </tr>\n",
       "  </thead>\n",
       "  <tbody>\n",
       "    <tr>\n",
       "      <th>2004-03-10 18:00:00</th>\n",
       "      <td>2.6</td>\n",
       "      <td>1360.0</td>\n",
       "      <td>1046.0</td>\n",
       "      <td>166.0</td>\n",
       "      <td>1056.0</td>\n",
       "      <td>113.0</td>\n",
       "      <td>1692.0</td>\n",
       "      <td>1268.0</td>\n",
       "      <td>48.9</td>\n",
       "      <td>0.7578</td>\n",
       "      <td>11.9</td>\n",
       "    </tr>\n",
       "    <tr>\n",
       "      <th>2004-03-10 19:00:00</th>\n",
       "      <td>2.0</td>\n",
       "      <td>1292.0</td>\n",
       "      <td>955.0</td>\n",
       "      <td>103.0</td>\n",
       "      <td>1174.0</td>\n",
       "      <td>92.0</td>\n",
       "      <td>1559.0</td>\n",
       "      <td>972.0</td>\n",
       "      <td>47.7</td>\n",
       "      <td>0.7255</td>\n",
       "      <td>9.4</td>\n",
       "    </tr>\n",
       "    <tr>\n",
       "      <th>2004-03-10 20:00:00</th>\n",
       "      <td>2.2</td>\n",
       "      <td>1402.0</td>\n",
       "      <td>939.0</td>\n",
       "      <td>131.0</td>\n",
       "      <td>1140.0</td>\n",
       "      <td>114.0</td>\n",
       "      <td>1555.0</td>\n",
       "      <td>1074.0</td>\n",
       "      <td>54.0</td>\n",
       "      <td>0.7502</td>\n",
       "      <td>9.0</td>\n",
       "    </tr>\n",
       "    <tr>\n",
       "      <th>2004-03-10 21:00:00</th>\n",
       "      <td>2.2</td>\n",
       "      <td>1376.0</td>\n",
       "      <td>948.0</td>\n",
       "      <td>172.0</td>\n",
       "      <td>1092.0</td>\n",
       "      <td>122.0</td>\n",
       "      <td>1584.0</td>\n",
       "      <td>1203.0</td>\n",
       "      <td>60.0</td>\n",
       "      <td>0.7867</td>\n",
       "      <td>9.2</td>\n",
       "    </tr>\n",
       "    <tr>\n",
       "      <th>2004-03-10 22:00:00</th>\n",
       "      <td>1.6</td>\n",
       "      <td>1272.0</td>\n",
       "      <td>836.0</td>\n",
       "      <td>131.0</td>\n",
       "      <td>1205.0</td>\n",
       "      <td>116.0</td>\n",
       "      <td>1490.0</td>\n",
       "      <td>1110.0</td>\n",
       "      <td>59.6</td>\n",
       "      <td>0.7888</td>\n",
       "      <td>6.5</td>\n",
       "    </tr>\n",
       "  </tbody>\n",
       "</table>\n",
       "</div>"
      ],
      "text/plain": [
       "                     CO(GT)  PT08.S1(CO)  PT08.S2(NMHC)  NOx(GT)  \\\n",
       "Datetime                                                           \n",
       "2004-03-10 18:00:00     2.6       1360.0         1046.0    166.0   \n",
       "2004-03-10 19:00:00     2.0       1292.0          955.0    103.0   \n",
       "2004-03-10 20:00:00     2.2       1402.0          939.0    131.0   \n",
       "2004-03-10 21:00:00     2.2       1376.0          948.0    172.0   \n",
       "2004-03-10 22:00:00     1.6       1272.0          836.0    131.0   \n",
       "\n",
       "                     PT08.S3(NOx)  NO2(GT)  PT08.S4(NO2)  PT08.S5(O3)    RH  \\\n",
       "Datetime                                                                      \n",
       "2004-03-10 18:00:00        1056.0    113.0        1692.0       1268.0  48.9   \n",
       "2004-03-10 19:00:00        1174.0     92.0        1559.0        972.0  47.7   \n",
       "2004-03-10 20:00:00        1140.0    114.0        1555.0       1074.0  54.0   \n",
       "2004-03-10 21:00:00        1092.0    122.0        1584.0       1203.0  60.0   \n",
       "2004-03-10 22:00:00        1205.0    116.0        1490.0       1110.0  59.6   \n",
       "\n",
       "                         AH  C6H6(GT)  \n",
       "Datetime                               \n",
       "2004-03-10 18:00:00  0.7578      11.9  \n",
       "2004-03-10 19:00:00  0.7255       9.4  \n",
       "2004-03-10 20:00:00  0.7502       9.0  \n",
       "2004-03-10 21:00:00  0.7867       9.2  \n",
       "2004-03-10 22:00:00  0.7888       6.5  "
      ]
     },
     "execution_count": 1,
     "metadata": {},
     "output_type": "execute_result"
    }
   ],
   "source": [
    "import pandas as pd\n",
    "import numpy as np\n",
    "from pandas import datetime\n",
    "from matplotlib import pyplot as plt\n",
    "\n",
    "\"\"\"\n",
    "Load airqualityUCI Data\n",
    "\"\"\"\n",
    "\n",
    "def parser(x):\n",
    "    return datetime.strptime(x, '%Y-%m-%d %H:%M:%S')\n",
    "\n",
    "input_file='./data/AirQualityUCI_refined.csv'\n",
    "\n",
    "df=pd.read_csv(input_file,\n",
    "              index_col=[0],\n",
    "              parse_dates=[0],\n",
    "              date_parser=parser)\n",
    "\n",
    "df.head()"
   ]
  },
  {
   "cell_type": "code",
   "execution_count": 2,
   "id": "7813d351-62c4-494d-95f9-c0348162253a",
   "metadata": {},
   "outputs": [
    {
     "name": "stdout",
     "output_type": "stream",
     "text": [
      "Using matplotlib backend: Qt5Agg\n"
     ]
    }
   ],
   "source": [
    "# Visualizaion setup\n",
    "%matplotlib\n",
    "from matplotlib import pyplot as plt\n",
    "import seaborn; seaborn,set()\n",
    "%config InlineBackend.figure_format='svg'\n",
    "plt.rcParams['figure.figsize']=[10,5]\n",
    "plt.ion()"
   ]
  },
  {
   "cell_type": "code",
   "execution_count": 4,
   "id": "76066743-6fbf-4f3a-b9cb-5799a59984a2",
   "metadata": {},
   "outputs": [
    {
     "data": {
      "text/plain": [
       "Datetime\n",
       "2004-03-10 18:00:00    2.6\n",
       "2004-03-10 19:00:00    2.0\n",
       "2004-03-10 20:00:00    2.2\n",
       "2004-03-10 21:00:00    2.2\n",
       "2004-03-10 22:00:00    1.6\n",
       "                      ... \n",
       "2005-04-04 10:00:00    3.1\n",
       "2005-04-04 11:00:00    2.4\n",
       "2005-04-04 12:00:00    2.4\n",
       "2005-04-04 13:00:00    2.1\n",
       "2005-04-04 14:00:00    2.2\n",
       "Name: CO(GT), Length: 9357, dtype: float64"
      ]
     },
     "execution_count": 4,
     "metadata": {},
     "output_type": "execute_result"
    }
   ],
   "source": [
    "# df['CO(GT)'].plot()\n",
    "co=df['CO(GT)'].copy()\n",
    "co.interpolate()\n"
   ]
  },
  {
   "cell_type": "code",
   "execution_count": 5,
   "id": "23f3be47-1934-4d4a-9f93-24884aa30f43",
   "metadata": {},
   "outputs": [],
   "source": [
    "# Linear interpolation\n",
    "co = df['CO(GT)'].copy()\n",
    "co.interpolate(inplace=True)"
   ]
  },
  {
   "cell_type": "code",
   "execution_count": 6,
   "id": "c73ce690-bc08-4690-94d3-c81b74f97921",
   "metadata": {},
   "outputs": [
    {
     "data": {
      "text/plain": [
       "<matplotlib.legend.Legend at 0x25364960250>"
      ]
     },
     "execution_count": 6,
     "metadata": {},
     "output_type": "execute_result"
    }
   ],
   "source": [
    "# Visualize original and imputed data\n",
    "plt.plot(df['CO(GT)'], label='original', zorder=2)\n",
    "plt.plot(co, label='linear interpolation', zorder=1)\n",
    "plt.legend(loc='best')"
   ]
  },
  {
   "cell_type": "code",
   "execution_count": 7,
   "id": "46a68b12-4abc-4e2a-986e-da8208f09cc4",
   "metadata": {},
   "outputs": [
    {
     "data": {
      "text/plain": [
       "Text(0.5, 25.722222222222214, 'CO(GT)')"
      ]
     },
     "execution_count": 7,
     "metadata": {},
     "output_type": "execute_result"
    }
   ],
   "source": [
    "# Detecting outliers using Boxplot\n",
    "plt.boxplot(co)\n",
    "plt.title(\"Detecting outliers using Boxplot\")\n",
    "plt.xlabel('CO(GT)')"
   ]
  },
  {
   "cell_type": "code",
   "execution_count": 8,
   "id": "a8640d5d-9013-4209-885c-f0a090db1977",
   "metadata": {},
   "outputs": [
    {
     "name": "stdout",
     "output_type": "stream",
     "text": [
      "                 CO(GT)  PT08.S1(CO)  PT08.S2(NMHC)   NOx(GT)  PT08.S3(NOx)  \\\n",
      "CO(GT)         1.000000     0.877203       0.914973  0.792557     -0.701703   \n",
      "PT08.S1(CO)    0.877203     1.000000       0.892964  0.713654     -0.771938   \n",
      "PT08.S2(NMHC)  0.914973     0.892964       1.000000  0.704435     -0.796703   \n",
      "NOx(GT)        0.792557     0.713654       0.704435  1.000000     -0.655707   \n",
      "PT08.S3(NOx)  -0.701703    -0.771938      -0.796703 -0.655707      1.000000   \n",
      "NO2(GT)        0.679262     0.641529       0.646245  0.763111     -0.652083   \n",
      "PT08.S4(NO2)   0.639470     0.682881       0.777254  0.233731     -0.538468   \n",
      "PT08.S5(O3)    0.851403     0.899324       0.880578  0.787046     -0.796569   \n",
      "RH             0.040218     0.114606      -0.090380  0.221032     -0.056740   \n",
      "AH             0.065809     0.135324       0.186933 -0.149323     -0.232017   \n",
      "C6H6(GT)       0.845144     0.883795       0.981950  0.626638     -0.735744   \n",
      "\n",
      "                NO2(GT)  PT08.S4(NO2)  PT08.S5(O3)        RH        AH  \\\n",
      "CO(GT)         0.679262      0.639470     0.851403  0.040218  0.065809   \n",
      "PT08.S1(CO)    0.641529      0.682881     0.899324  0.114606  0.135324   \n",
      "PT08.S2(NMHC)  0.646245      0.777254     0.880578 -0.090380  0.186933   \n",
      "NOx(GT)        0.763111      0.233731     0.787046  0.221032 -0.149323   \n",
      "PT08.S3(NOx)  -0.652083     -0.538468    -0.796569 -0.056740 -0.232017   \n",
      "NO2(GT)        1.000000      0.157360     0.708128 -0.091759 -0.335022   \n",
      "PT08.S4(NO2)   0.157360      1.000000     0.591144 -0.032188  0.629641   \n",
      "PT08.S5(O3)    0.708128      0.591144     1.000000  0.124956  0.070751   \n",
      "RH            -0.091759     -0.032188     0.124956  1.000000  0.167971   \n",
      "AH            -0.335022      0.629641     0.070751  0.167971  1.000000   \n",
      "C6H6(GT)       0.544039      0.765731     0.865689 -0.061681  0.167972   \n",
      "\n",
      "               C6H6(GT)  \n",
      "CO(GT)         0.845144  \n",
      "PT08.S1(CO)    0.883795  \n",
      "PT08.S2(NMHC)  0.981950  \n",
      "NOx(GT)        0.626638  \n",
      "PT08.S3(NOx)  -0.735744  \n",
      "NO2(GT)        0.544039  \n",
      "PT08.S4(NO2)   0.765731  \n",
      "PT08.S5(O3)    0.865689  \n",
      "RH            -0.061681  \n",
      "AH             0.167972  \n",
      "C6H6(GT)       1.000000  \n"
     ]
    }
   ],
   "source": [
    "# Calculate correlations between variables\n",
    "corr_matrix = df.corr()\n",
    "print(corr_matrix)"
   ]
  },
  {
   "cell_type": "code",
   "execution_count": 9,
   "id": "857f4339-865a-42d1-97b1-b1019edd6ae8",
   "metadata": {},
   "outputs": [],
   "source": [
    "# Choose the least correlated variable\n",
    "rh = df['RH'].copy().interpolate() # RH(Relative Humidity)"
   ]
  },
  {
   "cell_type": "code",
   "execution_count": 10,
   "id": "658ccf2f-5571-41cb-a4ae-43f12dfd5a12",
   "metadata": {},
   "outputs": [
    {
     "data": {
      "text/plain": [
       "Text(91.97222222222221, 0.5, 'RH')"
      ]
     },
     "execution_count": 10,
     "metadata": {},
     "output_type": "execute_result"
    }
   ],
   "source": [
    "# Visualize a scatter plot(CO, RH)\n",
    "plt.scatter(co, rh, s=12, c='black')\n",
    "plt.xlabel('CO(GT)')\n",
    "plt.ylabel('RH')"
   ]
  },
  {
   "cell_type": "code",
   "execution_count": 11,
   "id": "9a38c2f7-0d08-4218-b2af-e830dc66b2f6",
   "metadata": {},
   "outputs": [],
   "source": [
    "# Choose the most correlated variable\n",
    "nmhc = df['PT08.S2(NMHC)'].copy().interpolate()"
   ]
  },
  {
   "cell_type": "code",
   "execution_count": 12,
   "id": "e74a0f75-eb47-4b00-bfa1-7fda7b0cd5af",
   "metadata": {},
   "outputs": [
    {
     "data": {
      "text/plain": [
       "Text(91.97222222222221, 0.5, 'PT08.S2(NMHC)')"
      ]
     },
     "execution_count": 12,
     "metadata": {},
     "output_type": "execute_result"
    }
   ],
   "source": [
    "# Visualize a scatter plot(CO, NMHC)\n",
    "plt.scatter(co, nmhc, s=12, c='black')\n",
    "plt.xlabel('CO(GT)')\n",
    "plt.ylabel('PT08.S2(NMHC)')"
   ]
  },
  {
   "cell_type": "code",
   "execution_count": 13,
   "id": "02327a53-e04a-4cea-bddd-22d25629a97f",
   "metadata": {},
   "outputs": [
    {
     "name": "stdout",
     "output_type": "stream",
     "text": [
      "1.1 1.8 2.9\n"
     ]
    }
   ],
   "source": [
    "\"\"\"\n",
    "IQR-based Outlier Detection\n",
    "\"\"\"\n",
    "\n",
    "# Q1, Q2(median), Q3\n",
    "q1 = co.quantile(0.25)\n",
    "median = co.quantile(0.5)\n",
    "q3 = co.quantile(0.75)\n",
    "print(q1, median, q3)"
   ]
  },
  {
   "cell_type": "code",
   "execution_count": 14,
   "id": "54a6093e-a5d7-4e14-aeb2-8326b829b2c6",
   "metadata": {},
   "outputs": [
    {
     "name": "stdout",
     "output_type": "stream",
     "text": [
      "5.6 -1.5999999999999996\n"
     ]
    }
   ],
   "source": [
    "# IQR, upper_fence, lower_fence\n",
    "iqr = q3-q1\n",
    "upper_fence = q3 + 1.5*iqr\n",
    "lower_fence = q1 - 1.5*iqr\n",
    "print(upper_fence, lower_fence)\n"
   ]
  },
  {
   "cell_type": "code",
   "execution_count": 15,
   "id": "93c25d98-a88e-4260-94c8-36a5b00f2730",
   "metadata": {},
   "outputs": [
    {
     "name": "stdout",
     "output_type": "stream",
     "text": [
      "Datetime\n",
      "2004-03-11 19:00:00    6.9\n",
      "2004-03-11 20:00:00    6.1\n",
      "2004-03-12 20:00:00    6.6\n",
      "2004-03-14 20:00:00    5.9\n",
      "2004-03-15 09:00:00    8.1\n",
      "                      ... \n",
      "2005-03-23 19:00:00    6.2\n",
      "2005-03-23 20:00:00    7.2\n",
      "2005-03-24 19:00:00    5.9\n",
      "2005-03-24 20:00:00    7.5\n",
      "2005-03-25 19:00:00    5.7\n",
      "Name: CO(GT), Length: 224, dtype: float64\n"
     ]
    }
   ],
   "source": [
    "# Filtering the outliers\n",
    "outliers = co.loc[(co > upper_fence) | (co < 0)]\n",
    "print(outliers)"
   ]
  },
  {
   "cell_type": "code",
   "execution_count": 16,
   "id": "35beb1d4-45df-41cd-a361-7c7f72a8b5c7",
   "metadata": {},
   "outputs": [],
   "source": [
    "# Mask for outliers\n",
    "mask = co.index.isin(outliers.index)"
   ]
  },
  {
   "cell_type": "code",
   "execution_count": 17,
   "id": "b1946549-d4d6-4801-8491-058ec129281c",
   "metadata": {},
   "outputs": [
    {
     "data": {
      "text/plain": [
       "<matplotlib.legend.Legend at 0x25365b9a940>"
      ]
     },
     "execution_count": 17,
     "metadata": {},
     "output_type": "execute_result"
    }
   ],
   "source": [
    "# Visualize the normal data and outliers\n",
    "plt.plot(co[~mask], label='normal', color='blue',\n",
    "    marker='o', markersize=3, linestyle='None')\n",
    "plt.plot(outliers, label='outliers', color='red',\n",
    "    marker='x', markersize=3, linestyle='None')\n",
    "plt.legend(loc='best')"
   ]
  },
  {
   "cell_type": "code",
   "execution_count": 18,
   "id": "957bb6e5-93a7-4d99-946b-d4162162ebb6",
   "metadata": {},
   "outputs": [
    {
     "name": "stdout",
     "output_type": "stream",
     "text": [
      "Datetime\n",
      "2004-03-11 19:00:00   NaN\n",
      "2004-03-11 20:00:00   NaN\n",
      "2004-03-12 20:00:00   NaN\n",
      "2004-03-14 20:00:00   NaN\n",
      "2004-03-15 09:00:00   NaN\n",
      "                       ..\n",
      "2005-03-23 19:00:00   NaN\n",
      "2005-03-23 20:00:00   NaN\n",
      "2005-03-24 19:00:00   NaN\n",
      "2005-03-24 20:00:00   NaN\n",
      "2005-03-25 19:00:00   NaN\n",
      "Name: CO(GT), Length: 224, dtype: float64\n"
     ]
    },
    {
     "data": {
      "text/plain": [
       "<AxesSubplot:title={'center':'Detecting outliers using Boxplot'}, xlabel='Datetime', ylabel='PT08.S2(NMHC)'>"
      ]
     },
     "execution_count": 18,
     "metadata": {},
     "output_type": "execute_result"
    }
   ],
   "source": [
    "# Removing the outliers\n",
    "co_refined = co.copy()\n",
    "co_refined[mask] = np.nan\n",
    "print(co_refined[mask])\n",
    "co_refined.plot()"
   ]
  },
  {
   "cell_type": "code",
   "execution_count": 19,
   "id": "9d2af6bf-9fc3-4dc8-87a8-d386724c821a",
   "metadata": {},
   "outputs": [
    {
     "data": {
      "text/plain": [
       "<AxesSubplot:title={'center':'Detecting outliers using Boxplot'}, xlabel='Datetime', ylabel='PT08.S2(NMHC)'>"
      ]
     },
     "execution_count": 19,
     "metadata": {},
     "output_type": "execute_result"
    }
   ],
   "source": [
    "# Linear interpolation for reconstructing outliers removed.\n",
    "co_refined.interpolate(inplace=True)\n",
    "co_refined.plot()"
   ]
  },
  {
   "cell_type": "code",
   "execution_count": 20,
   "id": "c8e5fd7b-fde1-48ae-8871-fbdaa4c3a7a0",
   "metadata": {},
   "outputs": [
    {
     "name": "stderr",
     "output_type": "stream",
     "text": [
      "C:\\Users\\kyo98\\anaconda3\\lib\\site-packages\\seaborn\\distributions.py:2557: FutureWarning: `distplot` is a deprecated function and will be removed in a future version. Please adapt your code to use either `displot` (a figure-level function with similar flexibility) or `histplot` (an axes-level function for histograms).\n",
      "  warnings.warn(msg, FutureWarning)\n"
     ]
    },
    {
     "data": {
      "text/plain": [
       "<AxesSubplot:title={'center':'Detecting outliers using Boxplot'}, xlabel='CO(GT)', ylabel='PT08.S2(NMHC)'>"
      ]
     },
     "execution_count": 20,
     "metadata": {},
     "output_type": "execute_result"
    }
   ],
   "source": [
    "\"\"\"\n",
    "Detecting Outliers with Z-Scores\n",
    "\"\"\"\n",
    "\n",
    "# Visualize the distribution of the 'CO(GT)' variable\n",
    "import seaborn as sns\n",
    "sns.distplot(co)"
   ]
  },
  {
   "cell_type": "code",
   "execution_count": 21,
   "id": "50779a6a-a4ff-4111-a973-7d2ddb5de0e2",
   "metadata": {},
   "outputs": [
    {
     "name": "stdout",
     "output_type": "stream",
     "text": [
      "2.126146200705357 1.4369815748596482\n"
     ]
    }
   ],
   "source": [
    "# Mean, Standard deviation\n",
    "mean = np.mean(co)\n",
    "std = np.std(co)\n",
    "print(mean, std)"
   ]
  },
  {
   "cell_type": "code",
   "execution_count": 22,
   "id": "90d63106-76e6-4395-8bd1-aa45fdeb0e57",
   "metadata": {},
   "outputs": [
    {
     "name": "stdout",
     "output_type": "stream",
     "text": [
      "3.3221398818289734\n",
      "3.113368937755246\n",
      "4.157223658123882\n",
      "4.087633343432639\n",
      "3.0437786230640036\n",
      "3.113368937755246\n",
      "3.8092720846676698\n",
      "3.182959252446488\n",
      "3.113368937755246\n",
      "3.600501140593942\n",
      "3.5309108259027\n",
      "3.0437786230640036\n",
      "3.0437786230640036\n",
      "3.182959252446488\n",
      "3.0437786230640036\n",
      "3.600501140593942\n",
      "3.182959252446488\n",
      "3.7396817699764275\n",
      "3.0437786230640036\n",
      "3.182959252446488\n",
      "3.3917301965202156\n",
      "4.087633343432639\n",
      "3.878862399358912\n",
      "3.2525495671377302\n",
      "4.36599460219761\n",
      "3.2525495671377302\n",
      "4.018043028741397\n",
      "4.36599460219761\n",
      "4.087633343432639\n",
      "4.36599460219761\n",
      "5.131488063801275\n",
      "3.0437786230640036\n",
      "3.113368937755246\n",
      "3.7396817699764275\n",
      "3.2525495671377302\n",
      "4.018043028741397\n",
      "4.087633343432639\n",
      "4.922717119727547\n",
      "3.3917301965202156\n",
      "3.786075313103922\n",
      "4.180420429687629\n",
      "4.574765546271336\n",
      "4.157223658123882\n",
      "4.087633343432639\n",
      "3.113368937755246\n",
      "3.2525495671377302\n",
      "3.9484527140501537\n",
      "5.618620266639971\n",
      "3.113368937755246\n",
      "3.7396817699764275\n",
      "3.5309108259027\n",
      "4.296404287506367\n",
      "4.505175231580093\n",
      "3.3221398818289734\n",
      "3.0437786230640036\n",
      "3.113368937755246\n",
      "3.600501140593942\n",
      "3.600501140593942\n",
      "5.618620266639971\n",
      "6.801655616391093\n",
      "6.523294357626123\n",
      "4.296404287506367\n",
      "3.2525495671377302\n",
      "4.36599460219761\n",
      "3.878862399358912\n",
      "5.54902995194873\n",
      "3.878862399358912\n",
      "4.157223658123882\n",
      "3.113368937755246\n",
      "3.2525495671377302\n",
      "3.7396817699764275\n",
      "3.878862399358912\n",
      "5.061897749110033\n",
      "3.9484527140501537\n",
      "3.113368937755246\n",
      "3.3221398818289734\n",
      "5.409849322566245\n",
      "3.3221398818289734\n",
      "3.6700914552851853\n",
      "4.992307434418791\n",
      "3.6700914552851853\n",
      "3.113368937755246\n",
      "3.600501140593942\n",
      "3.7396817699764275\n",
      "4.505175231580093\n",
      "4.853126805036306\n",
      "4.505175231580093\n",
      "3.113368937755246\n",
      "4.4355849168888515\n",
      "4.574765546271336\n",
      "4.853126805036306\n",
      "3.5309108259027\n",
      "3.113368937755246\n",
      "3.0437786230640036\n",
      "3.3221398818289734\n",
      "4.018043028741397\n",
      "3.182959252446488\n",
      "3.2525495671377302\n",
      "3.182959252446488\n",
      "3.2525495671377302\n",
      "4.505175231580093\n",
      "4.574765546271336\n",
      "3.2525495671377302\n",
      "3.2525495671377302\n",
      "3.182959252446488\n",
      "3.182959252446488\n",
      "4.36599460219761\n",
      "3.461320511211458\n",
      "3.113368937755246\n",
      "3.0437786230640036\n",
      "3.461320511211458\n",
      "3.0437786230640036\n",
      "3.0437786230640036\n",
      "3.6700914552851853\n",
      "3.5309108259027\n",
      "3.7396817699764275\n"
     ]
    }
   ],
   "source": [
    "# Calculate Z-scores for each data points\n",
    "\n",
    "outliers = []\n",
    "thres = 3   # Z-score threshold\n",
    "\n",
    "for i in co:\n",
    "    z_score = (i-mean) / std\n",
    "    if (np.abs(z_score) > thres):\n",
    "        print(z_score)\n",
    "        outliers.append(i)"
   ]
  },
  {
   "cell_type": "code",
   "execution_count": 23,
   "id": "2b15c1ee-e707-4f15-8010-2464589259e1",
   "metadata": {},
   "outputs": [
    {
     "data": {
      "text/plain": [
       "Datetime\n",
       "2004-03-11 19:00:00    6.9\n",
       "2004-03-12 20:00:00    6.6\n",
       "2004-03-15 09:00:00    8.1\n",
       "2004-03-15 19:00:00    8.0\n",
       "2004-03-15 20:00:00    6.5\n",
       "                      ... \n",
       "2005-03-14 19:00:00    6.5\n",
       "2005-03-14 20:00:00    6.5\n",
       "2005-03-15 20:00:00    7.4\n",
       "2005-03-23 20:00:00    7.2\n",
       "2005-03-24 20:00:00    7.5\n",
       "Name: CO(GT), Length: 116, dtype: float64"
      ]
     },
     "execution_count": 23,
     "metadata": {},
     "output_type": "execute_result"
    }
   ],
   "source": [
    "# Simplified version of filtering outliers\n",
    "outliers = co.loc[np.abs((co-mean)/std) > 3].copy()\n",
    "outliers"
   ]
  },
  {
   "cell_type": "code",
   "execution_count": 24,
   "id": "794435c4-426d-45e8-8cef-293657de61b2",
   "metadata": {},
   "outputs": [
    {
     "data": {
      "text/plain": [
       "array([False, False, False, ..., False, False, False])"
      ]
     },
     "execution_count": 24,
     "metadata": {},
     "output_type": "execute_result"
    }
   ],
   "source": [
    "# Mask for outliers\n",
    "mask = co.index.isin(outliers.index)\n",
    "mask"
   ]
  },
  {
   "cell_type": "code",
   "execution_count": 25,
   "id": "5615c28c-ac50-4d53-9327-77bf7521415e",
   "metadata": {},
   "outputs": [
    {
     "name": "stderr",
     "output_type": "stream",
     "text": [
      "C:\\Users\\kyo98\\anaconda3\\lib\\site-packages\\seaborn\\distributions.py:2557: FutureWarning: `distplot` is a deprecated function and will be removed in a future version. Please adapt your code to use either `displot` (a figure-level function with similar flexibility) or `histplot` (an axes-level function for histograms).\n",
      "  warnings.warn(msg, FutureWarning)\n",
      "C:\\Users\\kyo98\\anaconda3\\lib\\site-packages\\seaborn\\distributions.py:2557: FutureWarning: `distplot` is a deprecated function and will be removed in a future version. Please adapt your code to use either `displot` (a figure-level function with similar flexibility) or `histplot` (an axes-level function for histograms).\n",
      "  warnings.warn(msg, FutureWarning)\n"
     ]
    },
    {
     "data": {
      "text/plain": [
       "<matplotlib.legend.Legend at 0x25363089f70>"
      ]
     },
     "execution_count": 25,
     "metadata": {},
     "output_type": "execute_result"
    }
   ],
   "source": [
    "# Comparison of distributions before/after outlier removal\n",
    "sns.distplot(co, axlabel='CO(GT)', label='original')\n",
    "sns.distplot(co[~mask], label='outliers removed')\n",
    "plt.legend(loc='best')"
   ]
  },
  {
   "cell_type": "code",
   "execution_count": 26,
   "id": "943ddacc-d043-4810-8dd4-d9151d27f36f",
   "metadata": {},
   "outputs": [],
   "source": [
    "# Flooring and Capping\n",
    "floor = co.quantile(0.1)\n",
    "cap = co.quantile(0.9)"
   ]
  },
  {
   "cell_type": "code",
   "execution_count": 27,
   "id": "6dabe7ce-a8fe-4004-a128-9897da23ae48",
   "metadata": {},
   "outputs": [
    {
     "data": {
      "text/plain": [
       "<AxesSubplot:title={'center':'Detecting outliers using Boxplot'}, xlabel='Datetime', ylabel='PT08.S2(NMHC)'>"
      ]
     },
     "execution_count": 27,
     "metadata": {},
     "output_type": "execute_result"
    }
   ],
   "source": [
    "# Visualize the result\n",
    "co.loc[co < floor] = floor\n",
    "co.loc[co > cap] = cap\n",
    "co.plot()"
   ]
  },
  {
   "cell_type": "code",
   "execution_count": null,
   "id": "b7a3eaf4-80c4-4a27-a36c-5978542320ab",
   "metadata": {},
   "outputs": [],
   "source": []
  }
 ],
 "metadata": {
  "kernelspec": {
   "display_name": "Python 3",
   "language": "python",
   "name": "python3"
  },
  "language_info": {
   "codemirror_mode": {
    "name": "ipython",
    "version": 3
   },
   "file_extension": ".py",
   "mimetype": "text/x-python",
   "name": "python",
   "nbconvert_exporter": "python",
   "pygments_lexer": "ipython3",
   "version": "3.8.8"
  }
 },
 "nbformat": 4,
 "nbformat_minor": 5
}
