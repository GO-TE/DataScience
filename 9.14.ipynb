{
 "cells": [
  {
   "cell_type": "code",
   "execution_count": 1,
   "id": "f1400384-e6e8-4c13-9499-553e89502b9b",
   "metadata": {},
   "outputs": [
    {
     "name": "stdout",
     "output_type": "stream",
     "text": [
      "Hello World!\n",
      "100\n",
      "3.14\n",
      "My name is Hyun Jong Shin!\n"
     ]
    }
   ],
   "source": [
    "\"\"\"\n",
    "print() function\n",
    "\"\"\"\n",
    "\n",
    "print(\"Hello World!\")\n",
    "print(100)\n",
    "pi=3.14\n",
    "print(pi)\n",
    "\n",
    "intro=\"My name is \"\n",
    "name=\"Hyun Jong Shin\"\n",
    "print(intro + name + \"!\")"
   ]
  },
  {
   "cell_type": "code",
   "execution_count": 2,
   "id": "814b76ee-f486-4605-9b49-74328beb01e8",
   "metadata": {},
   "outputs": [],
   "source": [
    "\"\"\"\n",
    "Variables\n",
    "\"\"\"\n",
    "\n",
    "#나를 표현할 수 있는 정보 세 가지 이상을 변수로 선언\n",
    "\n",
    "user_name=\"Gyeong Tae Min\"\n",
    "user_id=201855060\n",
    "user_email=\"kyo9810@hs.ac.kr\"\n",
    "is_student=True"
   ]
  },
  {
   "cell_type": "code",
   "execution_count": 3,
   "id": "da5e9c42-fe1b-4481-82b9-e55671974857",
   "metadata": {},
   "outputs": [],
   "source": [
    "\"\"\"\n",
    "Data Types: Integers\n",
    "\"\"\"\n",
    "\n",
    "#집에 있는 세 가지 이상의 사물의 갯수를 정수 변수로 표현하시오.\n",
    "\n",
    "keyboard=3\n",
    "cellphone=2\n",
    "glasses=3"
   ]
  },
  {
   "cell_type": "code",
   "execution_count": 6,
   "id": "a6d03fb3-8a0b-47c0-9eb8-d8e4010889ec",
   "metadata": {},
   "outputs": [],
   "source": [
    "\"\"\"\n",
    "Data Types: Real Numbers\n",
    "\"\"\"\n",
    "\n",
    "#본인이 알고 있는 세 개의 실수를 변수로 정의\n",
    "\n",
    "pi=3.14\n",
    "e=2.71\n",
    "root_2=1.41"
   ]
  },
  {
   "cell_type": "code",
   "execution_count": 8,
   "id": "fb941d96-3853-4b28-b7b1-4060e8ec9b3d",
   "metadata": {},
   "outputs": [
    {
     "name": "stdout",
     "output_type": "stream",
     "text": [
      "In for a penny, in for a pound\n",
      "Leage of legend\n",
      "Lebron James\n",
      "In for a penny, in for a poundLeage of legendLebron James\n"
     ]
    }
   ],
   "source": [
    "\"\"\"\n",
    "Data Types: Strings\n",
    "\"\"\"\n",
    "\n",
    "favor_motto=\"In for a penny, in for a pound\"\n",
    "favor_game=\"Leage of legend\"\n",
    "favor_athlete=\"Lebron James\"\n",
    "\n",
    "print(favor_motto)\n",
    "print(favor_game)\n",
    "print(favor_athlete)\n",
    "\n",
    "favors=favor_motto + favor_game + favor_athlete\n",
    "\n",
    "print(favors)"
   ]
  },
  {
   "cell_type": "code",
   "execution_count": 9,
   "id": "6c956895-4bb9-4289-a521-b005e8cea9ae",
   "metadata": {},
   "outputs": [
    {
     "name": "stdout",
     "output_type": "stream",
     "text": [
      "8\n"
     ]
    }
   ],
   "source": [
    "\"\"\"\n",
    "X-Equals Operations\n",
    "\"\"\"\n",
    "\n",
    "a=2\n",
    "a**=3\n",
    "print(a)"
   ]
  },
  {
   "cell_type": "code",
   "execution_count": 11,
   "id": "910013a2-26d7-4fde-be10-849a2a299361",
   "metadata": {},
   "outputs": [
    {
     "data": {
      "text/plain": [
       "'\\nErrors\\n'"
      ]
     },
     "execution_count": 11,
     "metadata": {},
     "output_type": "execute_result"
    }
   ],
   "source": [
    "\"\"\"\n",
    "Errors\n",
    "\"\"\"\n",
    "\n",
    "# Name Error\n",
    "\n",
    "# print(my_name)\n",
    "# my_name=\"Gyeong Tae Min\""
   ]
  },
  {
   "cell_type": "code",
   "execution_count": null,
   "id": "a1265d32-f271-4ee8-a8de-24c001ac5859",
   "metadata": {},
   "outputs": [],
   "source": []
  }
 ],
 "metadata": {
  "kernelspec": {
   "display_name": "Python 3",
   "language": "python",
   "name": "python3"
  },
  "language_info": {
   "codemirror_mode": {
    "name": "ipython",
    "version": 3
   },
   "file_extension": ".py",
   "mimetype": "text/x-python",
   "name": "python",
   "nbconvert_exporter": "python",
   "pygments_lexer": "ipython3",
   "version": "3.8.8"
  }
 },
 "nbformat": 4,
 "nbformat_minor": 5
}
