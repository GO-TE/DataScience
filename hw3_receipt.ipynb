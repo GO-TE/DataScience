hairstyles = ["bouffant", "pixie", "dreadlocks", "crew", "bowl", "bob", "mohawk", "flattop"]
prices = [30, 25, 40, 20, 20, 35, 50, 35]
last_week = [2, 3, 5, 8, 4, 4, 6, 2]


total_price=0

for i in prices:
    total_price+=i
    
average_price=total_price/len(prices)

print("Average price is ",average_price)

new_prices=[25, 20, 35, 15, 15, 30, 45, 30]

total_revenue=0

for i in range(len(hairstyles)):
    total_revenue+=prices[i]*last_week[i]

average_daily_revenue=total_revenue/7

print("average daily revenue is ",average_daily_revenue)


cuts_under_30=[]

for i in range(len(new_prices)-1):
    if (new_prices[i]<30):
        cuts_under_30.append(hairstyles[i])
        
print(cuts_under_30)


