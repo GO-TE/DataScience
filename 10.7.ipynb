{
 "cells": [
  {
   "cell_type": "code",
   "execution_count": 1,
   "id": "0cf7a913-4114-4be9-b4a1-3e4e2c229616",
   "metadata": {},
   "outputs": [],
   "source": [
    "import numpy as np"
   ]
  },
  {
   "cell_type": "code",
   "execution_count": 2,
   "id": "928e98c0-4ac6-47c1-869f-38aa96c6e140",
   "metadata": {},
   "outputs": [
    {
     "name": "stdout",
     "output_type": "stream",
     "text": [
      "[9 7 4 6 6]\n"
     ]
    }
   ],
   "source": [
    "\"\"\"\n",
    "Computing reciprocals in loops\n",
    "\"\"\"\n",
    "\n",
    "# Function for computting reciprocals using looping\n",
    "\n",
    "def compute_reciprocals(values):\n",
    "    output=np.empty(len(values))\n",
    "    for i in range(len(values)):\n",
    "        output[i]=1.0/values[i]\n",
    "    return output\n",
    "\n",
    "values=np.random.randint(1,10,size=5)\n",
    "print(values)"
   ]
  },
  {
   "cell_type": "code",
   "execution_count": 3,
   "id": "64dcaa0c-5f5d-4cac-bb37-1a70062a6332",
   "metadata": {},
   "outputs": [
    {
     "name": "stdout",
     "output_type": "stream",
     "text": [
      "1.92 s ± 36.2 ms per loop (mean ± std. dev. of 7 runs, 1 loop each)\n"
     ]
    }
   ],
   "source": [
    "\"\"\"\n",
    "Comparison: Loop vs ufuncs(vectorized)\n",
    "\"\"\"\n",
    "\n",
    "big_array=np.random.randint(1,100,size=1000000)\n",
    "\n",
    "# Looping in a big array\n",
    "\n",
    "# jupyter magic function\n",
    "%timeit compute_reciprocals(big_array)"
   ]
  },
  {
   "cell_type": "code",
   "execution_count": 4,
   "id": "eda5a315-7f99-4718-9654-3d483b4eee58",
   "metadata": {},
   "outputs": [
    {
     "name": "stdout",
     "output_type": "stream",
     "text": [
      "3.02 ms ± 93.5 µs per loop (mean ± std. dev. of 7 runs, 100 loops each)\n"
     ]
    }
   ],
   "source": [
    "# vectorized operations\n",
    "%timeit 1 / big_array"
   ]
  },
  {
   "cell_type": "code",
   "execution_count": 5,
   "id": "0da242aa-6add-4ed2-a9da-e7b01074024f",
   "metadata": {},
   "outputs": [
    {
     "name": "stdout",
     "output_type": "stream",
     "text": [
      "[5 8 9 5 0] [0 1 7 6 9]\n",
      "[ 3  6  7  3 -2] [0 1 7 6 9]\n",
      "[ 3  7 14  9  7]\n",
      "[[2 4 5 2 4]\n",
      " [2 4 7 7 9]\n",
      " [1 7 0 6 9]]\n",
      "[[ 4 16 25  4 16]\n",
      " [ 4 16 49 49 81]\n",
      " [ 1 49  0 36 81]]\n"
     ]
    }
   ],
   "source": [
    "\"\"\"\n",
    "numpy.ufunc\n",
    "\"\"\"\n",
    "\n",
    "np.random.seed(1)\n",
    "arr1=np.random.randint(10,size=5)\n",
    "arr2=np.random.randint(10,size=5)\n",
    "print(arr1,arr2)\n",
    "\n",
    "arr1=arr1-2\n",
    "print(arr1,arr2)\n",
    "\n",
    "arr3=arr1+arr2\n",
    "print(arr3)\n",
    "\n",
    "arr4=np.random.randint(10,size=(3,5))\n",
    "print(arr4)\n",
    "\n",
    "arr5=arr4**2\n",
    "print(arr5)"
   ]
  },
  {
   "cell_type": "code",
   "execution_count": 6,
   "id": "2c0ebb01-a596-4fc2-b131-4fd47e60adc7",
   "metadata": {},
   "outputs": [
    {
     "name": "stdout",
     "output_type": "stream",
     "text": [
      "x       = [0 1 2 3]\n",
      "x  +  5 = [5 6 7 8]\n",
      "x  -  5 = [-5 -4 -3 -2]\n",
      "x  *  2 = [0 2 4 6]\n",
      "x  /  2 = [-2 -1  0  1]\n",
      "x  **  2 = [0 1 4 9]\n",
      "-------\n",
      "x  +  2 = [5 6 7 8]\n",
      "x  -  2 = [-5 -4 -3 -2]\n",
      "x  *  2 = [0 2 4 6]\n",
      "x  /  2 = [0.  0.5 1.  1.5]\n",
      "x  **  2 = [0 1 4 9]\n"
     ]
    }
   ],
   "source": [
    "\"\"\"\n",
    "Ufuncs: Array Arithmetic 여기부터 다시하기\n",
    "\"\"\"\n",
    "\n",
    "# Basic arithmetic operations on an array\n",
    "\n",
    "x=np.arange(4)\n",
    "print('x       =',x)\n",
    "print('x  +  5 =',x+5)\n",
    "print('x  -  5 =',x-5)\n",
    "print('x  *  2 =',x*2)\n",
    "print('x  /  2 =',x-2)\n",
    "print('x  **  2 =',x**2)\n",
    "\n",
    "print(\"-------\")\n",
    "\n",
    "print('x  +  2 =',np.add(x,5))\n",
    "print('x  -  2 =',np.subtract(x,5))\n",
    "print('x  *  2 =',np.multiply(x,2))\n",
    "print('x  /  2 =',np.divide(x,2))\n",
    "print('x  **  2 =',np.power(x,2))"
   ]
  },
  {
   "cell_type": "code",
   "execution_count": 7,
   "id": "ca222bcc-549f-4465-b83c-4b7613343f0d",
   "metadata": {},
   "outputs": [
    {
     "name": "stdout",
     "output_type": "stream",
     "text": [
      "[2 2 0 1 2]\n",
      "[5. 5. 2. 1.]\n"
     ]
    }
   ],
   "source": [
    "\"\"\"\n",
    "UFuncs: Absolute Value\n",
    "\"\"\"\n",
    "\n",
    "x=np.array([-2,-2,0,1,2])\n",
    "print(np.abs(x))\n",
    "\n",
    "x=np.array([3-4j,4-3j,2+0j,0+1j])\n",
    "print(np.abs(x))"
   ]
  },
  {
   "cell_type": "code",
   "execution_count": 8,
   "id": "a7cd38cc-a156-4df0-96f8-c1c83e45cf5c",
   "metadata": {},
   "outputs": [
    {
     "name": "stdout",
     "output_type": "stream",
     "text": [
      "[0.         1.57079633 3.14159265]\n",
      "[0.0000000e+00 1.0000000e+00 1.2246468e-16]\n",
      "[ 1.000000e+00  6.123234e-17 -1.000000e+00]\n",
      "[ 0.00000000e+00  1.63312394e+16 -1.22464680e-16]\n",
      "[  0.  10.  20.  30.  40.  50.  60.  70.  80.  90. 100.]\n"
     ]
    }
   ],
   "source": [
    "\"\"\"\n",
    "UFuncs: Trigonometric Functions\n",
    "\"\"\"\n",
    "\n",
    "theta=np.linspace(0,np.pi,3)\n",
    "\n",
    "print(theta)\n",
    "print(np.sin(theta))\n",
    "print(np.cos(theta))\n",
    "print(np.tan(theta))\n",
    "\n",
    "x=np.linspace(0,100,11)\n",
    "print(x)"
   ]
  },
  {
   "cell_type": "code",
   "execution_count": 9,
   "id": "8a9b109b-4bd8-4eb1-abce-ba0bf7163ead",
   "metadata": {},
   "outputs": [
    {
     "name": "stdout",
     "output_type": "stream",
     "text": [
      "[1 2 3 4]\n",
      "10\n",
      "24\n"
     ]
    }
   ],
   "source": [
    "\"\"\"\n",
    "UFuncs: Aggregation\n",
    "\"\"\"\n",
    "\n",
    "x=np.arange(1,5)\n",
    "print(x)\n",
    "\n",
    "aggr=np.add.reduce(x)\n",
    "print(aggr)\n",
    "\n",
    "aggr=np.multiply.reduce(x)\n",
    "print(aggr)"
   ]
  },
  {
   "cell_type": "code",
   "execution_count": 10,
   "id": "93e9dac8-3724-41f1-93fe-a1e0faf5849b",
   "metadata": {},
   "outputs": [
    {
     "name": "stdout",
     "output_type": "stream",
     "text": [
      "[1 2 3 4]\n",
      "[ 1  3  6 10]\n"
     ]
    }
   ],
   "source": [
    "# accumulate()\n",
    "print(x)\n",
    "\n",
    "accum=np.add.accumulate(x)\n",
    "print(accum)\n",
    "\n",
    "accum=np.multiply.accumulate(x)"
   ]
  },
  {
   "cell_type": "code",
   "execution_count": 11,
   "id": "b1f4729a-37e0-4e58-8911-dcd86b08ddeb",
   "metadata": {},
   "outputs": [
    {
     "name": "stdout",
     "output_type": "stream",
     "text": [
      "[0.5507979  0.70814782 0.29090474 ... 0.93033748 0.80429816 0.47400579]\n",
      "sum = 500422.19897015305\n"
     ]
    }
   ],
   "source": [
    "# Summing tha Values in an Array\n",
    "\n",
    "np.random.seed(3)\n",
    "arr=np.random.rand(1000000)\n",
    "\n",
    "print(arr)\n",
    "print(\"sum =\",np.sum(arr))"
   ]
  },
  {
   "cell_type": "code",
   "execution_count": 13,
   "id": "0560a586-80b1-4356-9332-1f5cb15d6e86",
   "metadata": {},
   "outputs": [
    {
     "name": "stdout",
     "output_type": "stream",
     "text": [
      "76.5 ms ± 1.73 ms per loop (mean ± std. dev. of 7 runs, 10 loops each)\n"
     ]
    }
   ],
   "source": [
    "%timeit sum(arr)"
   ]
  },
  {
   "cell_type": "code",
   "execution_count": 14,
   "id": "f40a3887-a5c3-4683-a90c-38aa0b98abf3",
   "metadata": {},
   "outputs": [
    {
     "name": "stdout",
     "output_type": "stream",
     "text": [
      "1.31 ms ± 82 µs per loop (mean ± std. dev. of 7 runs, 1000 loops each)\n"
     ]
    }
   ],
   "source": [
    "%timeit np.sum(arr)"
   ]
  },
  {
   "cell_type": "code",
   "execution_count": 15,
   "id": "b7ae1815-3321-4c18-b444-76dd9f3e6f94",
   "metadata": {},
   "outputs": [
    {
     "name": "stdout",
     "output_type": "stream",
     "text": [
      "max = 0.9999996367889004\n",
      "min = 1.5496004267534502e-06\n",
      "mean = 0.500422198970153\n",
      "median = 0.5005659265960778\n",
      "percentile = 0.5005659265960778\n",
      "False\n",
      "True\n"
     ]
    }
   ],
   "source": [
    "# Other Aggr. functions\n",
    "\n",
    "print(\"max =\",np.max(arr))\n",
    "print(\"min =\",np.min(arr))\n",
    "print(\"mean =\",np.mean(arr))\n",
    "print(\"median =\",np.median(arr))\n",
    "print(\"percentile =\",np.percentile(arr,50))\n",
    "\n",
    "print(np.any(arr>1))\n",
    "print(np.all(arr>0)) # range[0,1)"
   ]
  },
  {
   "cell_type": "code",
   "execution_count": 16,
   "id": "dc40b7cc-d36b-4589-8aba-461a07cd301b",
   "metadata": {},
   "outputs": [
    {
     "name": "stdout",
     "output_type": "stream",
     "text": [
      "[[3 6 6 0]\n",
      " [9 8 4 7]\n",
      " [0 0 7 1]]\n",
      "[15 28  8]\n"
     ]
    }
   ],
   "source": [
    "# Multi dimensional aggregates\n",
    "\n",
    "np.random.seed(5)\n",
    "arr=np.random.randint(10,size=(3,4))\n",
    "print(arr)\n",
    "\n",
    "print(np.sum(arr,axis=1))"
   ]
  },
  {
   "cell_type": "code",
   "execution_count": null,
   "id": "0fd8f0a1-1a5a-4f5e-b81a-0f9c37ada654",
   "metadata": {},
   "outputs": [],
   "source": []
  }
 ],
 "metadata": {
  "kernelspec": {
   "display_name": "Python 3",
   "language": "python",
   "name": "python3"
  },
  "language_info": {
   "codemirror_mode": {
    "name": "ipython",
    "version": 3
   },
   "file_extension": ".py",
   "mimetype": "text/x-python",
   "name": "python",
   "nbconvert_exporter": "python",
   "pygments_lexer": "ipython3",
   "version": "3.8.8"
  }
 },
 "nbformat": 4,
 "nbformat_minor": 5
}
