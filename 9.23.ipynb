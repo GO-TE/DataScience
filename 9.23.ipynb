{
 "cells": [
  {
   "cell_type": "code",
   "execution_count": 1,
   "id": "4e82eedf-4ac5-4928-94ad-16d7b9381981",
   "metadata": {},
   "outputs": [
    {
     "data": {
      "text/plain": [
       "4"
      ]
     },
     "execution_count": 1,
     "metadata": {},
     "output_type": "execute_result"
    }
   ],
   "source": [
    "\"\"\"\n",
    "functions vs method\n",
    "\"\"\"\n",
    "#function\n",
    "def my_function(x):\n",
    "    return x+1\n",
    "\n",
    "my_function(1)\n",
    "y=3\n",
    "my_function(y)\n"
   ]
  },
  {
   "cell_type": "code",
   "execution_count": 2,
   "id": "d6d3b174-63b5-4cfd-a034-0531a3a3b1df",
   "metadata": {},
   "outputs": [
    {
     "name": "stdout",
     "output_type": "stream",
     "text": [
      "2\n"
     ]
    }
   ],
   "source": [
    "x=1\n",
    "\n",
    "class my_class:\n",
    "    def my_method(self):\n",
    "        return x+1\n",
    "\n",
    "cls = my_class()\n",
    "print(cls.my_method())"
   ]
  },
  {
   "cell_type": "code",
   "execution_count": 3,
   "id": "33c63c63-8b41-4e06-809e-e64075e6ec1c",
   "metadata": {},
   "outputs": [
    {
     "name": "stdout",
     "output_type": "stream",
     "text": [
      "2020 is a leap year.\n"
     ]
    }
   ],
   "source": [
    "\"\"\"\n",
    "return keyword\n",
    "\"\"\"\n",
    "#leap year: 윤년 (2월 29일까지)\n",
    "\n",
    "def check_leap_year(year):\n",
    "    if year %4==0:\n",
    "        return str(year)+\" is a leap year.\"\n",
    "    else:\n",
    "        return str(year)+\" is a not leap year.\"\n",
    "\n",
    "result=check_leap_year(2020)\n",
    "print(result)\n"
   ]
  },
  {
   "cell_type": "code",
   "execution_count": 4,
   "id": "ba61dcef-7754-4b2e-8195-09b29797dff5",
   "metadata": {},
   "outputs": [
    {
     "name": "stdout",
     "output_type": "stream",
     "text": [
      "9 16 25\n"
     ]
    }
   ],
   "source": [
    "\"\"\"\n",
    "returning Multiple values\n",
    "\"\"\"\n",
    "\n",
    "def sequare_point(x,y,z):\n",
    "    x_sequared=x**2\n",
    "    y_sequared=y**2\n",
    "    z_sequared = z**2\n",
    "    return x_sequared,y_sequared,z_sequared\n",
    "    \n",
    "three_sequared, four_sequared, five_sequared= sequare_point(3,4,5)\n",
    "print(three_sequared,four_sequared,five_sequared)"
   ]
  },
  {
   "cell_type": "code",
   "execution_count": null,
   "id": "67fcc5e4-f7f8-41ca-8e4e-d20f6caed655",
   "metadata": {},
   "outputs": [],
   "source": []
  }
 ],
 "metadata": {
  "kernelspec": {
   "display_name": "Python 3",
   "language": "python",
   "name": "python3"
  },
  "language_info": {
   "codemirror_mode": {
    "name": "ipython",
    "version": 3
   },
   "file_extension": ".py",
   "mimetype": "text/x-python",
   "name": "python",
   "nbconvert_exporter": "python",
   "pygments_lexer": "ipython3",
   "version": "3.8.8"
  }
 },
 "nbformat": 4,
 "nbformat_minor": 5
}
