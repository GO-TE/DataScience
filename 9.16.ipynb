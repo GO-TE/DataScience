{
 "cells": [
  {
   "cell_type": "code",
   "execution_count": 1,
   "id": "b8857802-5acb-4159-b478-9bc81b99cfe9",
   "metadata": {},
   "outputs": [
    {
     "name": "stdout",
     "output_type": "stream",
     "text": [
      "<class 'bool'>\n",
      "<class 'float'>\n"
     ]
    }
   ],
   "source": [
    "\"\"\"\n",
    "boolean variables\n",
    "\"\"\"\n",
    "\n",
    "is_tested=False\n",
    "print(type(is_tested))\n",
    "\n",
    "a=3.14\n",
    "print(type(a))"
   ]
  },
  {
   "cell_type": "code",
   "execution_count": 2,
   "id": "a52771db-b5c5-4198-9ff9-434167fcf046",
   "metadata": {},
   "outputs": [
    {
     "name": "stdout",
     "output_type": "stream",
     "text": [
      "말티푸.\n",
      "True\n"
     ]
    }
   ],
   "source": [
    "\"\"\"\n",
    "Conditional Statements (if / elif / else)\n",
    "\"\"\"\n",
    "\n",
    "puppy= \"maltepoo\"\n",
    "age=1\n",
    "is_yes=False\n",
    "\n",
    "if puppy==\"maltese\":\n",
    "    print(\"말티즈.\")\n",
    "    is_yes=True\n",
    "    \n",
    "    if age<3:\n",
    "        print(\"말티즈 새끼.\")\n",
    "        \n",
    "elif puppy==\"poodle\":\n",
    "    print(\"푸들.\")\n",
    "    is_yes=True \n",
    "    \n",
    "elif puppy==\"shitzu\":\n",
    "    print(\"시츄.\")\n",
    "    is_yes=True\n",
    "\n",
    "else:\n",
    "    print(\"말티푸.\")\n",
    "    is_yes=True\n",
    "    \n",
    "print(is_yes)"
   ]
  },
  {
   "cell_type": "code",
   "execution_count": 3,
   "id": "000765ae-73ef-42d2-911a-cd9afdb83c9a",
   "metadata": {},
   "outputs": [
    {
     "name": "stdout",
     "output_type": "stream",
     "text": [
      "[Error]\n",
      "continue\n"
     ]
    }
   ],
   "source": [
    "\"\"\"\n",
    "Exception Handling\n",
    "\"\"\"\n",
    "\n",
    "x=1\n",
    "\n",
    "try:\n",
    "    print(y)\n",
    "    print(x)\n",
    "    \n",
    "except:\n",
    "    print('[Error]')\n",
    "    \n",
    "print('continue')"
   ]
  },
  {
   "cell_type": "code",
   "execution_count": null,
   "id": "fe82e76a-6acc-4540-bd81-c9ed26a96046",
   "metadata": {},
   "outputs": [],
   "source": []
  }
 ],
 "metadata": {
  "kernelspec": {
   "display_name": "Python 3",
   "language": "python",
   "name": "python3"
  },
  "language_info": {
   "codemirror_mode": {
    "name": "ipython",
    "version": 3
   },
   "file_extension": ".py",
   "mimetype": "text/x-python",
   "name": "python",
   "nbconvert_exporter": "python",
   "pygments_lexer": "ipython3",
   "version": "3.8.8"
  }
 },
 "nbformat": 4,
 "nbformat_minor": 5
}
