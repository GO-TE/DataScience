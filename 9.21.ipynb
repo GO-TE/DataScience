{
 "cells": [
  {
   "cell_type": "code",
   "execution_count": 1,
   "id": "72700cac-dfb8-4609-866f-b6c6bf561132",
   "metadata": {},
   "outputs": [
    {
     "name": "stdout",
     "output_type": "stream",
     "text": [
      "['jenny', 1, 1.4, True]\n"
     ]
    }
   ],
   "source": [
    "mixed=['jenny',1,1.4,True]\n",
    "print(mixed)\n",
    "list_of_lists=[['a',1],['b',2]]"
   ]
  },
  {
   "cell_type": "code",
   "execution_count": 2,
   "id": "a3f579b6-87d1-4f04-a171-7a34c8115f5b",
   "metadata": {},
   "outputs": [
    {
     "name": "stdout",
     "output_type": "stream",
     "text": [
      "roger\n",
      "rafael\n",
      "andy\n",
      "novak\n",
      "novak\n"
     ]
    }
   ],
   "source": [
    "\"\"\"\n",
    "zero-indexing\n",
    "\"\"\"\n",
    "\n",
    "names=['roger','rafael','andy','novak']\n",
    "\n",
    "print(names[0])\n",
    "print(names[1])\n",
    "print(names[2])\n",
    "print(names[3])\n",
    "\n",
    "print(names[-1])"
   ]
  },
  {
   "cell_type": "code",
   "execution_count": 3,
   "id": "e2dad308-0f71-4bd2-8bfc-f6208bf5110e",
   "metadata": {},
   "outputs": [
    {
     "name": "stdout",
     "output_type": "stream",
     "text": [
      "['생활관', '필허관', '소통관']\n",
      "['만우관', '장공관', '필허관', '소통관', '송암관', '늦봄관', '장준하']\n",
      "['만우관', '장공관', '필허관', '소통관', '송암관', '늦봄관', '장준하']\n",
      "['늦봄관', '만우관', '소통관', '송암관', '장공관', '장준하', '필허관']\n"
     ]
    }
   ],
   "source": [
    "hsu_building=['만우관','장공관','필허관','소통관','송암관','늦봄관','장준하']\n",
    "building_slice = hsu_building[1:4]\n",
    "building_slice[0]='생활관'\n",
    "print(building_slice)\n",
    "print(hsu_building)\n",
    "print(hsu_building[:])\n",
    "hsu_building.sort()\n",
    "\n",
    "print(hsu_building)"
   ]
  },
  {
   "cell_type": "code",
   "execution_count": 4,
   "id": "c32fdd23-6dd3-4e25-9e9e-c9e9bbfb74d7",
   "metadata": {},
   "outputs": [
    {
     "name": "stdout",
     "output_type": "stream",
     "text": [
      "[['해우리', '한식', '고s'], ['짜장명가', '중식', '중화비빔밥'], ['찌개동아리', '한식', '제육전골'], ['맘스터치', '양식', '싸이버거']]\n",
      "[['해우리', '한식', '해우라면'], ['짜장명가', '중식', '중화비빔밥'], ['찌개동아리', '한식', '제육전골'], ['맘스터치', '양식', '싸이버거']]\n"
     ]
    }
   ],
   "source": [
    "restaurants=[['해우리','한식','고s'],['짜장명가','중식','중화비빔밥'],['찌개동아리','한식','제육전골'],['맘스터치','양식','싸이버거']]\n",
    "print(restaurants)\n",
    "restaurants[0][2]='해우라면'\n",
    "print(restaurants)"
   ]
  },
  {
   "cell_type": "code",
   "execution_count": 5,
   "id": "29fe6b73-894b-4163-96cb-e48f30458ee9",
   "metadata": {},
   "outputs": [
    {
     "name": "stdout",
     "output_type": "stream",
     "text": [
      "['cake', 'cookie', 'bread', 'biscuit', 'tart']\n"
     ]
    }
   ],
   "source": [
    "\"\"\"\n",
    "addibg lists together\n",
    "\"\"\"\n",
    "items_one=['cake','cookie','bread']\n",
    "items_two = ['biscuit','tart']\n",
    "total_items=items_one+items_two\n",
    "print(total_items)"
   ]
  },
  {
   "cell_type": "code",
   "execution_count": 6,
   "id": "373803e4-4d40-4c37-9ea0-85dd8034882a",
   "metadata": {},
   "outputs": [
    {
     "name": "stdout",
     "output_type": "stream",
     "text": [
      "5\n",
      "3\n",
      "['daisies', 'periwinkle', 'tulips']\n",
      "['karla', 'maxium', 'vikor', 'martin', 'isabella']\n",
      "['C programming', 'calculus', 'Data structures', 'Machine Learning']\n",
      "['C programming', 'Data structures', 'Machine Learning']\n",
      "[1, 2, 3, 4]\n",
      "[1, 2, 3, 4]\n"
     ]
    }
   ],
   "source": [
    "\"\"\"\n",
    "Useful Method for Lists\n",
    "\"\"\"\n",
    "\n",
    "#Len()\n",
    "knapsack = [2,4,3,7,10]\n",
    "size=len(knapsack)\n",
    "print(size)\n",
    "#5\n",
    "#count\n",
    "backpack=['pencil','pen','notebook','textbook','pen','highlighter','pen']\n",
    "numpen=backpack.count('pen')\n",
    "\n",
    "print(numpen)\n",
    "\n",
    "orders=['daisies','periwinkle']\n",
    "orders.append('tulips')\n",
    "\n",
    "print(orders)\n",
    "\n",
    "#insert()\n",
    "store_line = ['karla','maxium','martin','isabella']\n",
    "store_line.insert(2,'vikor')\n",
    "\n",
    "print(store_line)\n",
    "\n",
    "#list.pop(index)\n",
    "sw_subjects = ['C programming','calculus','Data Enineering','Data structures','Machine Learning']\n",
    "sw_subjects.pop(2)\n",
    "print(sw_subjects)\n",
    "sw_subjects.remove('calculus')\n",
    "print(sw_subjects)\n",
    "\n",
    "#sort()\n",
    "numbers = [4,2,1,3]\n",
    "sorted_numbers=sorted(numbers)\n",
    "print(sorted_numbers)\n",
    "numbers.sort()\n",
    "print(numbers)"
   ]
  },
  {
   "cell_type": "code",
   "execution_count": null,
   "id": "fde922f1-f627-418c-8ea5-360ce1f229a4",
   "metadata": {},
   "outputs": [],
   "source": []
  }
 ],
 "metadata": {
  "kernelspec": {
   "display_name": "Python 3",
   "language": "python",
   "name": "python3"
  },
  "language_info": {
   "codemirror_mode": {
    "name": "ipython",
    "version": 3
   },
   "file_extension": ".py",
   "mimetype": "text/x-python",
   "name": "python",
   "nbconvert_exporter": "python",
   "pygments_lexer": "ipython3",
   "version": "3.8.8"
  }
 },
 "nbformat": 4,
 "nbformat_minor": 5
}
