{
 "cells": [
  {
   "cell_type": "code",
   "execution_count": 1,
   "id": "f06a643a-8dd4-475d-8f17-c08330109582",
   "metadata": {},
   "outputs": [],
   "source": [
    "import pandas as pd\n",
    "import numpy as np"
   ]
  },
  {
   "cell_type": "code",
   "execution_count": 3,
   "id": "74890ab6-9e7f-4173-935b-f0d68e1020ba",
   "metadata": {},
   "outputs": [
    {
     "data": {
      "text/plain": [
       "'1.2.4'"
      ]
     },
     "execution_count": 3,
     "metadata": {},
     "output_type": "execute_result"
    }
   ],
   "source": [
    "pd.__version__"
   ]
  },
  {
   "cell_type": "code",
   "execution_count": 4,
   "id": "57b1ebcc-2be4-4a8f-beaa-78ce97f709f5",
   "metadata": {},
   "outputs": [
    {
     "name": "stdout",
     "output_type": "stream",
     "text": [
      "0    0.25\n",
      "1    0.50\n",
      "2    0.75\n",
      "3    1.00\n",
      "dtype: float64\n"
     ]
    }
   ],
   "source": [
    "\"\"\"\n",
    "Pandas Object : Series\n",
    "\"\"\"\n",
    "\n",
    "# Create a series from an array\n",
    "\n",
    "ser=pd.Series([0.25,0.5,0.75,1.0])\n",
    "print(ser)"
   ]
  },
  {
   "cell_type": "code",
   "execution_count": 5,
   "id": "6f3cd6b8-09e5-4da3-a75f-db12d9b59ddf",
   "metadata": {},
   "outputs": [
    {
     "name": "stdout",
     "output_type": "stream",
     "text": [
      "[0.25 0.5  0.75 1.  ]\n",
      "RangeIndex(start=0, stop=4, step=1)\n",
      "[0 1 2 3]\n"
     ]
    }
   ],
   "source": [
    "# Two main attributes: values and index\n",
    "arr=ser.values\n",
    "print(arr)\n",
    "\n",
    "ind=ser.index\n",
    "print(ind)\n",
    "print(ind.values)"
   ]
  },
  {
   "cell_type": "code",
   "execution_count": 6,
   "id": "0a94c5b9-0998-4fd9-8712-eaee6f25f0ca",
   "metadata": {},
   "outputs": [
    {
     "name": "stdout",
     "output_type": "stream",
     "text": [
      "a    0.25\n",
      "b    0.50\n",
      "c    0.75\n",
      "d    1.00\n",
      "dtype: float64\n",
      "0.25\n"
     ]
    }
   ],
   "source": [
    "# Label based indexing\n",
    "\n",
    "ser=pd.Series([0.25,0.5,0.75,1.0],index=['a','b','c','d'])\n",
    "print(ser)\n",
    "\n",
    "print(ser['a'])"
   ]
  },
  {
   "cell_type": "code",
   "execution_count": 7,
   "id": "793545b7-0271-4a3c-9903-e3e9c7444583",
   "metadata": {},
   "outputs": [
    {
     "name": "stdout",
     "output_type": "stream",
     "text": [
      "California    38332521\n",
      "Texas         26448193\n",
      "New York      19651127\n",
      "Florida       19552860\n",
      "Illinois      12882135\n",
      "dtype: int64\n",
      "California    38332521\n",
      "Texas         26448193\n",
      "New York      19651127\n",
      "dtype: int64\n"
     ]
    }
   ],
   "source": [
    "\"\"\"\n",
    "Create a series from a dictionary\n",
    "\"\"\"\n",
    "\n",
    "population_dict={\"California\":38332521,\n",
    "                \"Texas\":26448193,\n",
    "                \"New York\":19651127,\n",
    "                \"Florida\":19552860,\n",
    "                \"Illinois\":12882135}\n",
    "\n",
    "population=pd.Series(population_dict)\n",
    "print(population)\n",
    "\n",
    "print(population['California':'New York'])"
   ]
  },
  {
   "cell_type": "code",
   "execution_count": 8,
   "id": "f0c8f291-fe97-4c30-b108-d14a89e9a254",
   "metadata": {},
   "outputs": [
    {
     "name": "stdout",
     "output_type": "stream",
     "text": [
      "California    423967\n",
      "Texas         695662\n",
      "New York      141297\n",
      "Florida       170312\n",
      "Illinois      149995\n",
      "dtype: int64\n"
     ]
    }
   ],
   "source": [
    "\"\"\"\n",
    "Pandas object: DataFrame\n",
    "\"\"\"\n",
    "\n",
    "area_dict={\"California\":423967,\n",
    "                \"Texas\":695662,\n",
    "                \"New York\":141297,\n",
    "                \"Florida\":170312,\n",
    "                \"Illinois\":149995}\n",
    "\n",
    "area=pd.Series(area_dict)\n",
    "print(area)"
   ]
  },
  {
   "cell_type": "code",
   "execution_count": 9,
   "id": "3008c7fe-de26-4757-80dc-8ed99a28d62a",
   "metadata": {},
   "outputs": [
    {
     "name": "stdout",
     "output_type": "stream",
     "text": [
      "            population    area\n",
      "California    38332521  423967\n",
      "Texas         26448193  695662\n",
      "New York      19651127  141297\n",
      "Florida       19552860  170312\n",
      "Illinois      12882135  149995\n",
      "--------\n",
      "Index(['California', 'Texas', 'New York', 'Florida', 'Illinois'], dtype='object') \n",
      "\n",
      "Index(['population', 'area'], dtype='object')\n"
     ]
    }
   ],
   "source": [
    "# Construct a DataFrame contaning 'population' and 'area' Series\n",
    "\n",
    "states=pd.DataFrame({'population':population, 'area':area})\n",
    "print(states)\n",
    "\n",
    "print('--------')\n",
    "\n",
    "print(states.index,'\\n')\n",
    "print(states.columns)"
   ]
  },
  {
   "cell_type": "code",
   "execution_count": 10,
   "id": "c4add352-041a-433e-9f7e-c0b56e94df53",
   "metadata": {},
   "outputs": [
    {
     "name": "stdout",
     "output_type": "stream",
     "text": [
      "California    423967\n",
      "Texas         695662\n",
      "New York      141297\n",
      "Florida       170312\n",
      "Illinois      149995\n",
      "Name: area, dtype: int64\n"
     ]
    }
   ],
   "source": [
    "print(states['area'])\n"
   ]
  },
  {
   "cell_type": "code",
   "execution_count": 11,
   "id": "d4c1527a-6c15-4ae1-bba7-85eca04cf037",
   "metadata": {},
   "outputs": [
    {
     "name": "stdout",
     "output_type": "stream",
     "text": [
      "[[0.95503316 0.32011568]\n",
      " [0.33122207 0.49872354]\n",
      " [0.7880096  0.75455584]] \n",
      "\n",
      "        foo       bar\n",
      "a  0.955033  0.320116\n",
      "b  0.331222  0.498724\n",
      "c  0.788010  0.754556\n"
     ]
    }
   ],
   "source": [
    "arr=np.random.rand(3,2)\n",
    "print(arr,'\\n')\n",
    "\n",
    "df=pd.DataFrame(arr,columns=['foo','bar'],index=['a','b','c'])\n",
    "\n",
    "print(df)"
   ]
  },
  {
   "cell_type": "code",
   "execution_count": 12,
   "id": "8ce69dc5-6b3d-41b0-8003-02f88bbc5713",
   "metadata": {},
   "outputs": [
    {
     "name": "stdout",
     "output_type": "stream",
     "text": [
      "a    0.25\n",
      "b    0.50\n",
      "c    0.75\n",
      "d    1.00\n",
      "dtype: float64 \n",
      "\n",
      "0.5\n",
      "0.25\n",
      "True\n",
      "False\n",
      "Index(['a', 'b', 'c', 'd'], dtype='object')\n",
      "Index(['a', 'b', 'c', 'd'], dtype='object')\n"
     ]
    }
   ],
   "source": [
    "\"\"\"\n",
    "Series object manipulation : dictionary-style\n",
    "\"\"\"\n",
    "\n",
    "ser=pd.Series([0.25,0.5,0.75,1.0],index=['a','b','c','d'])\n",
    "\n",
    "print(ser,'\\n')\n",
    "print(ser['b'])\n",
    "print(ser[0])\n",
    "print('a' in ser)\n",
    "print(0.25 in ser)\n",
    "\n",
    "print(ser.keys())\n",
    "print(ser.index)\n"
   ]
  },
  {
   "cell_type": "code",
   "execution_count": 13,
   "id": "312942e2-05af-471d-b03d-6acf9fed6f28",
   "metadata": {},
   "outputs": [
    {
     "name": "stdout",
     "output_type": "stream",
     "text": [
      "Index(['a', 'b', 'c', 'd'], dtype='object')\n",
      "a    0.125\n",
      "b    0.500\n",
      "c    0.750\n",
      "d    1.000\n",
      "e    1.250\n",
      "dtype: float64\n"
     ]
    }
   ],
   "source": [
    "\"\"\"\n",
    "Series object manipulation : array-style\n",
    "\"\"\"\n",
    "\n",
    "print(ser.keys())\n",
    "ser['e']=1.25\n",
    "ser['a']=0.125\n",
    "\n",
    "print(ser)"
   ]
  },
  {
   "cell_type": "code",
   "execution_count": 14,
   "id": "48584b73-1348-4aa0-8cc0-5f1483a3d810",
   "metadata": {},
   "outputs": [
    {
     "name": "stdout",
     "output_type": "stream",
     "text": [
      "            population    area     density\n",
      "California    38332521  423967   90.413926\n",
      "Texas         26448193  695662   38.018740\n",
      "New York      19651127  141297  139.076746\n",
      "Florida       19552860  170312  114.806121\n",
      "Illinois      12882135  149995   85.883763\n"
     ]
    }
   ],
   "source": [
    "\"\"\"\n",
    "DataFrame object manipulation\n",
    "\"\"\"\n",
    "\n",
    "states['density']=states['population']/states['area']\n",
    "print(states)"
   ]
  },
  {
   "cell_type": "code",
   "execution_count": 15,
   "id": "094e2a81-0437-4e99-a56a-9e642afdaf84",
   "metadata": {},
   "outputs": [
    {
     "data": {
      "text/html": [
       "<div>\n",
       "<style scoped>\n",
       "    .dataframe tbody tr th:only-of-type {\n",
       "        vertical-align: middle;\n",
       "    }\n",
       "\n",
       "    .dataframe tbody tr th {\n",
       "        vertical-align: top;\n",
       "    }\n",
       "\n",
       "    .dataframe thead th {\n",
       "        text-align: right;\n",
       "    }\n",
       "</style>\n",
       "<table border=\"1\" class=\"dataframe\">\n",
       "  <thead>\n",
       "    <tr style=\"text-align: right;\">\n",
       "      <th></th>\n",
       "      <th>population</th>\n",
       "      <th>area</th>\n",
       "      <th>density</th>\n",
       "    </tr>\n",
       "  </thead>\n",
       "  <tbody>\n",
       "    <tr>\n",
       "      <th>California</th>\n",
       "      <td>38332521</td>\n",
       "      <td>423967</td>\n",
       "      <td>90.413926</td>\n",
       "    </tr>\n",
       "    <tr>\n",
       "      <th>Texas</th>\n",
       "      <td>26448193</td>\n",
       "      <td>695662</td>\n",
       "      <td>38.018740</td>\n",
       "    </tr>\n",
       "    <tr>\n",
       "      <th>New York</th>\n",
       "      <td>19651127</td>\n",
       "      <td>141297</td>\n",
       "      <td>139.076746</td>\n",
       "    </tr>\n",
       "  </tbody>\n",
       "</table>\n",
       "</div>"
      ],
      "text/plain": [
       "            population    area     density\n",
       "California    38332521  423967   90.413926\n",
       "Texas         26448193  695662   38.018740\n",
       "New York      19651127  141297  139.076746"
      ]
     },
     "execution_count": 15,
     "metadata": {},
     "output_type": "execute_result"
    }
   ],
   "source": [
    "states.loc['California':'New York']\n"
   ]
  },
  {
   "cell_type": "code",
   "execution_count": 16,
   "id": "a757dfee-cd26-4b34-b086-384057c3168c",
   "metadata": {},
   "outputs": [
    {
     "data": {
      "text/html": [
       "<div>\n",
       "<style scoped>\n",
       "    .dataframe tbody tr th:only-of-type {\n",
       "        vertical-align: middle;\n",
       "    }\n",
       "\n",
       "    .dataframe tbody tr th {\n",
       "        vertical-align: top;\n",
       "    }\n",
       "\n",
       "    .dataframe thead th {\n",
       "        text-align: right;\n",
       "    }\n",
       "</style>\n",
       "<table border=\"1\" class=\"dataframe\">\n",
       "  <thead>\n",
       "    <tr style=\"text-align: right;\">\n",
       "      <th></th>\n",
       "      <th>population</th>\n",
       "      <th>area</th>\n",
       "      <th>density</th>\n",
       "    </tr>\n",
       "  </thead>\n",
       "  <tbody>\n",
       "    <tr>\n",
       "      <th>California</th>\n",
       "      <td>38332521</td>\n",
       "      <td>423967</td>\n",
       "      <td>90.413926</td>\n",
       "    </tr>\n",
       "    <tr>\n",
       "      <th>Texas</th>\n",
       "      <td>26448193</td>\n",
       "      <td>695662</td>\n",
       "      <td>38.018740</td>\n",
       "    </tr>\n",
       "    <tr>\n",
       "      <th>New York</th>\n",
       "      <td>19651127</td>\n",
       "      <td>141297</td>\n",
       "      <td>139.076746</td>\n",
       "    </tr>\n",
       "    <tr>\n",
       "      <th>Florida</th>\n",
       "      <td>19552860</td>\n",
       "      <td>170312</td>\n",
       "      <td>114.806121</td>\n",
       "    </tr>\n",
       "  </tbody>\n",
       "</table>\n",
       "</div>"
      ],
      "text/plain": [
       "            population    area     density\n",
       "California    38332521  423967   90.413926\n",
       "Texas         26448193  695662   38.018740\n",
       "New York      19651127  141297  139.076746\n",
       "Florida       19552860  170312  114.806121"
      ]
     },
     "execution_count": 16,
     "metadata": {},
     "output_type": "execute_result"
    }
   ],
   "source": [
    "states.iloc[:4]"
   ]
  },
  {
   "cell_type": "code",
   "execution_count": 17,
   "id": "f4a05fa7-bb16-42d4-9624-d24607c87bde",
   "metadata": {},
   "outputs": [
    {
     "name": "stdout",
     "output_type": "stream",
     "text": [
      "          population     density\n",
      "New York    19651127  139.076746\n",
      "Florida     19552860  114.806121 \n",
      "\n"
     ]
    }
   ],
   "source": [
    "print(states.loc[states.density>100,['population','density']],'\\n')"
   ]
  },
  {
   "cell_type": "code",
   "execution_count": 18,
   "id": "86c6bc50-e905-45a4-9a17-e24bfae575f1",
   "metadata": {},
   "outputs": [
    {
     "name": "stdout",
     "output_type": "stream",
     "text": [
      "          population     density\n",
      "New York    19651127  139.076746\n",
      "Florida     19552860  114.806121 \n",
      "\n"
     ]
    }
   ],
   "source": [
    "# Masking and fancy indexing using the loc indexer\n",
    "\n",
    "print(states.loc[states.density>100,['population','density']],'\\n')"
   ]
  },
  {
   "cell_type": "code",
   "execution_count": null,
   "id": "4403d3b2-7e0d-4c75-826e-b3cdaac76cf8",
   "metadata": {},
   "outputs": [],
   "source": []
  }
 ],
 "metadata": {
  "kernelspec": {
   "display_name": "Python 3",
   "language": "python",
   "name": "python3"
  },
  "language_info": {
   "codemirror_mode": {
    "name": "ipython",
    "version": 3
   },
   "file_extension": ".py",
   "mimetype": "text/x-python",
   "name": "python",
   "nbconvert_exporter": "python",
   "pygments_lexer": "ipython3",
   "version": "3.8.8"
  }
 },
 "nbformat": 4,
 "nbformat_minor": 5
}
