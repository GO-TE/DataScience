{
 "cells": [
  {
   "cell_type": "code",
   "execution_count": 18,
   "id": "b2deff5a-553d-4486-ba61-b62d6819097b",
   "metadata": {},
   "outputs": [
    {
     "name": "stdout",
     "output_type": "stream",
     "text": [
      "Average price is  31.875\n",
      "average daily revenue is  155.0\n",
      "['bouffant', 'pixie', 'crew', 'bowl']\n"
     ]
    }
   ],
   "source": [
    "hairstyles = [\"bouffant\", \"pixie\", \"dreadlocks\", \"crew\", \"bowl\", \"bob\", \"mohawk\", \"flattop\"]\n",
    "prices = [30, 25, 40, 20, 20, 35, 50, 35]\n",
    "last_week = [2, 3, 5, 8, 4, 4, 6, 2]\n",
    "\n",
    "\n",
    "total_price=0\n",
    "\n",
    "for i in prices:\n",
    "    total_price+=i\n",
    "    \n",
    "average_price=total_price/len(prices)\n",
    "\n",
    "print(\"Average price is \",average_price)\n",
    "\n",
    "new_prices=[25, 20, 35, 15, 15, 30, 45, 30]\n",
    "\n",
    "total_revenue=0\n",
    "\n",
    "for i in range(len(hairstyles)):\n",
    "    total_revenue+=prices[i]*last_week[i]\n",
    "\n",
    "average_daily_revenue=total_revenue/7\n",
    "\n",
    "print(\"average daily revenue is \",average_daily_revenue)\n",
    "\n",
    "\n",
    "cuts_under_30=[]\n",
    "\n",
    "for i in range(len(new_prices)-1):\n",
    "    if (new_prices[i]<30):\n",
    "        cuts_under_30.append(hairstyles[i])\n",
    "        \n",
    "print(cuts_under_30)\n",
    "\n",
    "\n"
   ]
  },
  {
   "cell_type": "code",
   "execution_count": null,
   "id": "43447bad-3d0f-4651-a57a-4f850bf42ccb",
   "metadata": {},
   "outputs": [],
   "source": []
  }
 ],
 "metadata": {
  "kernelspec": {
   "display_name": "Python 3",
   "language": "python",
   "name": "python3"
  },
  "language_info": {
   "codemirror_mode": {
    "name": "ipython",
    "version": 3
   },
   "file_extension": ".py",
   "mimetype": "text/x-python",
   "name": "python",
   "nbconvert_exporter": "python",
   "pygments_lexer": "ipython3",
   "version": "3.8.8"
  }
 },
 "nbformat": 4,
 "nbformat_minor": 5
}
