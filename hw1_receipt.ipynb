{
 "cells": [
  {
   "cell_type": "code",
   "execution_count": 35,
   "id": "e8354115-286f-4b23-bc6d-78558237b437",
   "metadata": {},
   "outputs": [
    {
     "name": "stdout",
     "output_type": "stream",
     "text": [
      "Costomer One Items:\n",
      "Lovely Loveseat. Tufted polyester blend on wood. 32 inches high x 40 inches wide x 30 inches deep. Red or white.Luxurious Lamp. Glass and iron. 36 inches tall. Brown with cream shade.\n",
      "Costomer One Total:\n",
      "333.09119999999996\n"
     ]
    }
   ],
   "source": [
    "lovely_loveseat_description=\"Lovely Loveseat. Tufted polyester blend on wood. 32 inches high x 40 inches wide x 30 inches deep. Red or white.\"\n",
    "lovely_loveseat_price=254.00\n",
    "stylish_settee_description=\"Stylish Settee. Faux leather on birch. 29.50 inches high x 54.75 inches wide x 28 inches deep. Black.\"\n",
    "stylish_settee_price=180.50\n",
    "luxurious_lamp_description=\"Luxurious Lamp. Glass and iron. 36 inches tall. Brown with cream shade.\"\n",
    "luxurious_lamp_price=52.15\n",
    "\n",
    "sales_tax=.088\n",
    "\n",
    "\n",
    "\n",
    "costomer_one_total=0\n",
    "costomer_one_itemization=\"\"\n",
    "\n",
    "\n",
    "costomer_one_total=lovely_loveseat_price\n",
    "costomer_one_itemization=lovely_loveseat_description\n",
    "\n",
    "\n",
    "costomer_one_total+=luxurious_lamp_price\n",
    "costomer_one_itemization+=luxurious_lamp_description\n",
    "\n",
    "print(\"Costomer One Items:\")\n",
    "print(costomer_one_itemization)\n",
    "print(\"Costomer One Total:\")\n",
    "print(costomer_one_total+costomer_one_total*sales_tax)"
   ]
  },
  {
   "cell_type": "code",
   "execution_count": null,
   "id": "a490415d-6db7-42a7-935d-e82ad93f6015",
   "metadata": {},
   "outputs": [],
   "source": []
  },
  {
   "cell_type": "code",
   "execution_count": null,
   "id": "2fabc4fe-b822-4125-aa61-3bc319fdb82c",
   "metadata": {},
   "outputs": [],
   "source": []
  }
 ],
 "metadata": {
  "kernelspec": {
   "display_name": "Python 3",
   "language": "python",
   "name": "python3"
  },
  "language_info": {
   "codemirror_mode": {
    "name": "ipython",
    "version": 3
   },
   "file_extension": ".py",
   "mimetype": "text/x-python",
   "name": "python",
   "nbconvert_exporter": "python",
   "pygments_lexer": "ipython3",
   "version": "3.8.8"
  }
 },
 "nbformat": 4,
 "nbformat_minor": 5
}
