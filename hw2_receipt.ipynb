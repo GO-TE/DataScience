{
 "cells": [
  {
   "cell_type": "code",
   "execution_count": 25,
   "id": "11f8cd71-7534-4d9e-96a7-774826b837cd",
   "metadata": {},
   "outputs": [
    {
     "name": "stdout",
     "output_type": "stream",
     "text": [
      "[['physics', 98], ['calculus', 97], ['poetry', 85], ['history', 88]]\n",
      "[['physics', 98], ['calculus', 97], ['poetry', 85], ['history', 88], ['computer science', 100], ['visual arts', 93]]\n",
      "[['physics', 98], ['calculus', 97], ['poetry', 'pass'], ['history', 88], ['computer science', 100], ['visual arts', 98]]\n"
     ]
    }
   ],
   "source": [
    "subject=['physics','calculus','poetry','history']\n",
    "grades=[98,97,85,88]\n",
    "\n",
    "gradebook=[['physics',98],['calculus',97],['poetry',85],['history',88]]\n",
    "print(gradebook)\n",
    "\n",
    "gradebook.append(['computer science',100])\n",
    "gradebook.append(['visual arts',93])\n",
    "\n",
    "print(gradebook)\n",
    "\n",
    "gradebook[5][1]=98\n",
    "\n",
    "gradebook[2].remove(85)\n",
    "gradebook[2].append('pass')\n",
    "print(gradebook)"
   ]
  },
  {
   "cell_type": "code",
   "execution_count": null,
   "id": "56979656-7404-4640-86d3-b8decb123c48",
   "metadata": {},
   "outputs": [],
   "source": []
  },
  {
   "cell_type": "code",
   "execution_count": null,
   "id": "407842b6-ff69-481a-af78-2218e0a3a5e7",
   "metadata": {},
   "outputs": [],
   "source": []
  }
 ],
 "metadata": {
  "kernelspec": {
   "display_name": "Python 3",
   "language": "python",
   "name": "python3"
  },
  "language_info": {
   "codemirror_mode": {
    "name": "ipython",
    "version": 3
   },
   "file_extension": ".py",
   "mimetype": "text/x-python",
   "name": "python",
   "nbconvert_exporter": "python",
   "pygments_lexer": "ipython3",
   "version": "3.8.8"
  }
 },
 "nbformat": 4,
 "nbformat_minor": 5
}
