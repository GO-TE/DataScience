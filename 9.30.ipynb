{
 "cells": [
  {
   "cell_type": "code",
   "execution_count": 1,
   "id": "440533ff-a5d3-445b-945d-80b0745b7327",
   "metadata": {},
   "outputs": [],
   "source": [
    "import numpy as np\n",
    "import pandas as pd\n",
    "from matplotlib import pyplot as plt"
   ]
  },
  {
   "cell_type": "code",
   "execution_count": 2,
   "id": "f10d3bdf-a40d-4c5f-9c23-672f0b0ffba2",
   "metadata": {},
   "outputs": [
    {
     "name": "stdout",
     "output_type": "stream",
     "text": [
      "[1 2 3 4]\n"
     ]
    }
   ],
   "source": [
    "#creating a Numpy Array\n",
    "list = [1,2,3,4]\n",
    "\n",
    "arr=np.array(list)\n",
    "print(arr)"
   ]
  },
  {
   "cell_type": "code",
   "execution_count": 3,
   "id": "b83cbec4-bb32-4273-a4b5-1098e01f5934",
   "metadata": {},
   "outputs": [
    {
     "name": "stdout",
     "output_type": "stream",
     "text": [
      "112\n",
      "132\n"
     ]
    }
   ],
   "source": [
    "#int + object meta info 56->64\n",
    "from sys import getsizeof\n",
    "lst=[1,2,3,4,5,6,7]\n",
    "print(getsizeof(lst))\n",
    "# int 4,바이트만증가\n",
    "arr=np.array(lst)\n",
    "print(getsizeof(arr))"
   ]
  },
  {
   "cell_type": "code",
   "execution_count": 4,
   "id": "c0241f61-f5c8-4f14-8e78-0c6e17d1f206",
   "metadata": {},
   "outputs": [
    {
     "name": "stdout",
     "output_type": "stream",
     "text": [
      "[25, 20, 35, 15, 15, 30, 45, 30]\n",
      "[25 20 35 15 15 30 45 30]\n"
     ]
    }
   ],
   "source": [
    "prices=[30,25,40,20,20,35,50,35]\n",
    "new_prices=[price-5 for price in prices]\n",
    "print(new_prices)\n",
    "\n",
    "#with a ndarray\n",
    "prices_arr = np.array(prices)\n",
    "prices_arr = prices_arr-5\n",
    "print(prices_arr)"
   ]
  },
  {
   "cell_type": "code",
   "execution_count": 5,
   "id": "1108f87f-2015-411e-892f-2fb4ac678a48",
   "metadata": {},
   "outputs": [
    {
     "name": "stdout",
     "output_type": "stream",
     "text": [
      "[91 89 76 94 96]\n",
      "[262 283 250 278 274]\n",
      "[87.33333333 94.33333333 83.33333333 92.66666667 91.33333333]\n",
      "93\n",
      "[94 88]\n",
      "[[ 92  94  88  91  87]\n",
      " [ 79 100  86  93  91]\n",
      " [ 91  89  76  94  96]]\n",
      "91\n",
      "[91 93 94]\n",
      "[ True False False False False False  True  True  True  True]\n",
      "[10  9  8  9  7]\n",
      "[10  9  8  9  7]\n",
      "[50 56 51]\n",
      "[90 85 98]\n",
      "[79 65 63 79]\n"
     ]
    }
   ],
   "source": [
    "test1=np.array([92,94,88,91,87])\n",
    "test2=np.array([79,100,86,93,91])\n",
    "test3=np.array([89,87,74,92,94])\n",
    "test3=test3+2\n",
    "test_3_fixed=test3\n",
    "print(test_3_fixed)\n",
    "\n",
    "total_grade= test1+test2+test3\n",
    "print(total_grade)\n",
    "final_grade=total_grade/3\n",
    "print(final_grade)\n",
    "\n",
    "jeremy_test_2=test2[3]\n",
    "print(jeremy_test_2)\n",
    "\n",
    "manual_adwoa_test1 = np.array([test1[1],test1[2]])\n",
    "print(manual_adwoa_test1)\n",
    "\n",
    "student_scores=np.array([test1,test2,test3])\n",
    "print(student_scores)\n",
    "\n",
    "print(student_scores[2,0])\n",
    "print(student_scores[:,3])\n",
    "\n",
    "a=np.array([10,2,2,4,5,3,9,8,9,7])\n",
    "mask=a>5\n",
    "print(mask)\n",
    "\n",
    "selected=a[a>5]\n",
    "print(selected)\n",
    "#selected= a[(a>6)|(a<4)]\n",
    "print(selected)\n",
    "\n",
    "porridge=np.array([79,65,50,63,56,90,85,98,79,51])\n",
    "cold=porridge[porridge<60]\n",
    "hot=porridge[porridge>80]\n",
    "just_righ = porridge[(porridge>60) & (porridge<80)]\n",
    "print(cold)\n",
    "print(hot)\n",
    "print(just_righ)"
   ]
  },
  {
   "cell_type": "code",
   "execution_count": null,
   "id": "1bad0fba-5c42-4b85-9f75-0ade035a9929",
   "metadata": {},
   "outputs": [],
   "source": []
  }
 ],
 "metadata": {
  "kernelspec": {
   "display_name": "Python 3",
   "language": "python",
   "name": "python3"
  },
  "language_info": {
   "codemirror_mode": {
    "name": "ipython",
    "version": 3
   },
   "file_extension": ".py",
   "mimetype": "text/x-python",
   "name": "python",
   "nbconvert_exporter": "python",
   "pygments_lexer": "ipython3",
   "version": "3.8.8"
  }
 },
 "nbformat": 4,
 "nbformat_minor": 5
}
